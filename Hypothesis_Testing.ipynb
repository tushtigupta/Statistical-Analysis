{
  "cells": [
    {
      "cell_type": "markdown",
      "source": [
        "# **Shapiro Test**"
      ],
      "metadata": {
        "id": "TuE3F19IP9uS"
      }
    },
    {
      "cell_type": "code",
      "execution_count": 2,
      "metadata": {
        "id": "S-1y6k7wHdKG"
      },
      "outputs": [],
      "source": [
        "from scipy.stats import shapiro"
      ]
    },
    {
      "cell_type": "code",
      "execution_count": 3,
      "metadata": {
        "colab": {
          "base_uri": "https://localhost:8080/"
        },
        "id": "ihyIOx5dIiav",
        "outputId": "12845ffe-e054-4350-b7a7-dd0afb3870c2"
      },
      "outputs": [
        {
          "output_type": "stream",
          "name": "stdout",
          "text": [
            "P value is: 0.012242163192341116\n",
            "Data is not normally distributed[Reject H0]\n"
          ]
        }
      ],
      "source": [
        "data=[1.2,3.4,56.8,4.1,1.6,43]\n",
        "stat,p=shapiro(data)\n",
        "print(\"P value is:\",p)\n",
        "if p>0.05:\n",
        "  print(\"Data is normally distributed [Fail to reject H0]\")\n",
        "else:\n",
        "  print(\"Data is not normally distributed[Reject H0]\")\n"
      ]
    },
    {
      "cell_type": "markdown",
      "source": [
        "# **Normal Test**"
      ],
      "metadata": {
        "id": "PCqMLakNQDYi"
      }
    },
    {
      "cell_type": "code",
      "execution_count": 4,
      "metadata": {
        "id": "uUTpnRSkJ_m0"
      },
      "outputs": [],
      "source": [
        "from scipy.stats import normaltest\n",
        "import numpy as np"
      ]
    },
    {
      "cell_type": "code",
      "execution_count": 7,
      "metadata": {
        "id": "56lsPzWAIiXQ",
        "colab": {
          "base_uri": "https://localhost:8080/"
        },
        "outputId": "b8eef7a0-188f-4076-f9a4-408c384ebe4f"
      },
      "outputs": [
        {
          "output_type": "stream",
          "name": "stdout",
          "text": [
            "P value is: 0.897901249718761\n",
            "Data is normally distributed [Fail to reject H0]\n"
          ]
        }
      ],
      "source": [
        "data=[12,34,56,78,32,67,45,66,90]\n",
        "stat,p=normaltest(data)\n",
        "print(\"P value is:\",p)\n",
        "if p>0.05:\n",
        "  print(\"Data is normally distributed [Fail to reject H0]\")\n",
        "else:\n",
        "  print(\"Data is not normally distributed[Reject H0]\")"
      ]
    },
    {
      "cell_type": "markdown",
      "source": [
        "Pearson **Test**"
      ],
      "metadata": {
        "id": "5qOjv73LQMp9"
      }
    },
    {
      "cell_type": "code",
      "execution_count": 8,
      "metadata": {
        "id": "M_WHEITtIiUZ"
      },
      "outputs": [],
      "source": [
        "from scipy.stats import pearsonr"
      ]
    },
    {
      "cell_type": "code",
      "execution_count": 13,
      "metadata": {
        "id": "GjH77hm1IiRT",
        "colab": {
          "base_uri": "https://localhost:8080/"
        },
        "outputId": "6d7b0282-3a33-4381-e28a-30f65a30a7e8"
      },
      "outputs": [
        {
          "output_type": "stream",
          "name": "stdout",
          "text": [
            "P value is: 0.21785143958605369\n",
            "Data is normally distributed [Fail to reject H0]\n"
          ]
        }
      ],
      "source": [
        "x = [1,22,12,34,21]\n",
        "y = [2,4,6,8,10]\n",
        "stat,p=pearsonr(x,y)\n",
        "print(\"P value is:\",p)\n",
        "if p>0.05:\n",
        "  print(\"Data is normally distributed [Fail to reject H0]\")\n",
        "else:\n",
        "  print(\"Data is not normally distributed[Reject H0]\")"
      ]
    },
    {
      "cell_type": "code",
      "execution_count": null,
      "metadata": {
        "id": "qq6dDx92IiKz"
      },
      "outputs": [],
      "source": []
    },
    {
      "cell_type": "code",
      "execution_count": null,
      "metadata": {
        "id": "GjSCtvr0IiHV"
      },
      "outputs": [],
      "source": []
    },
    {
      "cell_type": "code",
      "execution_count": null,
      "metadata": {
        "id": "NS4Ou-0FIiD-"
      },
      "outputs": [],
      "source": []
    },
    {
      "cell_type": "code",
      "execution_count": null,
      "metadata": {
        "id": "WgPaHojPIiA-"
      },
      "outputs": [],
      "source": []
    },
    {
      "cell_type": "code",
      "execution_count": null,
      "metadata": {
        "id": "nDZd3XIDIh8v"
      },
      "outputs": [],
      "source": []
    },
    {
      "cell_type": "code",
      "execution_count": null,
      "metadata": {
        "id": "j6TgtpivIhxs"
      },
      "outputs": [],
      "source": []
    }
  ],
  "metadata": {
    "colab": {
      "provenance": []
    },
    "kernelspec": {
      "display_name": "Python 3",
      "name": "python3"
    },
    "language_info": {
      "name": "python"
    }
  },
  "nbformat": 4,
  "nbformat_minor": 0
}