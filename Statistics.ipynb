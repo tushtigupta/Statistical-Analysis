{
  "nbformat": 4,
  "nbformat_minor": 0,
  "metadata": {
    "colab": {
      "provenance": []
    },
    "kernelspec": {
      "name": "python3",
      "display_name": "Python 3"
    },
    "language_info": {
      "name": "python"
    }
  },
  "cells": [
    {
      "cell_type": "code",
      "execution_count": null,
      "metadata": {
        "id": "e-nQe88tEins"
      },
      "outputs": [],
      "source": [
        "#Libraries to work with\n",
        "import pandas as pd\n",
        "import numpy as np"
      ]
    },
    {
      "cell_type": "code",
      "source": [
        "df=pd.read_csv('Fortune500.csv')"
      ],
      "metadata": {
        "id": "U3sMNHWyFHun"
      },
      "execution_count": null,
      "outputs": []
    },
    {
      "cell_type": "code",
      "source": [
        "#First 5 rows\n",
        "df.head()"
      ],
      "metadata": {
        "colab": {
          "base_uri": "https://localhost:8080/",
          "height": 518
        },
        "id": "cPPZmi9PFPMI",
        "outputId": "86b60cb9-13dd-47dd-8cdd-19fed7ec1ea8"
      },
      "execution_count": null,
      "outputs": [
        {
          "output_type": "execute_result",
          "data": {
            "text/plain": [
              "   Rank               Title  Employees       Sector  \\\n",
              "0     1             Walmart    2300000    Retailing   \n",
              "1     2  Berkshire Hathaway     367700   Financials   \n",
              "2     3               Apple     116000   Technology   \n",
              "3     4         Exxon Mobil      72700       Energy   \n",
              "4     5            McKesson      68000  Wholesalers   \n",
              "\n",
              "                                   Industry         Hqcity  \\\n",
              "0                     General Merchandisers    Bentonville   \n",
              "1  Insurance: Property and Casualty (Stock)          Omaha   \n",
              "2               Computers, Office Equipment      Cupertino   \n",
              "3                        Petroleum Refining         Irving   \n",
              "4                  Wholesalers: Health Care  San Francisco   \n",
              "\n",
              "                   Ceo                                      Ceo-title  \\\n",
              "0  C. Douglas McMillon  President, Chief Executive Officer & Director   \n",
              "1    Warren E. Buffett             Chairman & Chief Executive Officer   \n",
              "2      Timothy D. Cook             Chief Executive Officer & Director   \n",
              "3      Darren W. Woods             Chairman & Chief Executive Officer   \n",
              "4   John H. Hammergren  Chairman, President & Chief Executive Officer   \n",
              "\n",
              "   Revenues  Revchange  Profits Prftchange  Assets  \n",
              "0    485873        0.8  13643.0       -7.2  198825  \n",
              "1    223604        6.1  24074.0          0  620854  \n",
              "2    215639       -7.7  45687.0      -14.4  321686  \n",
              "3    205004      -16.7   7840.0      -51.5  330314  \n",
              "4    192487        6.2   2258.0         53   56563  "
            ],
            "text/html": [
              "\n",
              "  <div id=\"df-45245981-6af1-4b8a-a4aa-211713c158bd\" class=\"colab-df-container\">\n",
              "    <div>\n",
              "<style scoped>\n",
              "    .dataframe tbody tr th:only-of-type {\n",
              "        vertical-align: middle;\n",
              "    }\n",
              "\n",
              "    .dataframe tbody tr th {\n",
              "        vertical-align: top;\n",
              "    }\n",
              "\n",
              "    .dataframe thead th {\n",
              "        text-align: right;\n",
              "    }\n",
              "</style>\n",
              "<table border=\"1\" class=\"dataframe\">\n",
              "  <thead>\n",
              "    <tr style=\"text-align: right;\">\n",
              "      <th></th>\n",
              "      <th>Rank</th>\n",
              "      <th>Title</th>\n",
              "      <th>Employees</th>\n",
              "      <th>Sector</th>\n",
              "      <th>Industry</th>\n",
              "      <th>Hqcity</th>\n",
              "      <th>Ceo</th>\n",
              "      <th>Ceo-title</th>\n",
              "      <th>Revenues</th>\n",
              "      <th>Revchange</th>\n",
              "      <th>Profits</th>\n",
              "      <th>Prftchange</th>\n",
              "      <th>Assets</th>\n",
              "    </tr>\n",
              "  </thead>\n",
              "  <tbody>\n",
              "    <tr>\n",
              "      <th>0</th>\n",
              "      <td>1</td>\n",
              "      <td>Walmart</td>\n",
              "      <td>2300000</td>\n",
              "      <td>Retailing</td>\n",
              "      <td>General Merchandisers</td>\n",
              "      <td>Bentonville</td>\n",
              "      <td>C. Douglas McMillon</td>\n",
              "      <td>President, Chief Executive Officer &amp; Director</td>\n",
              "      <td>485873</td>\n",
              "      <td>0.8</td>\n",
              "      <td>13643.0</td>\n",
              "      <td>-7.2</td>\n",
              "      <td>198825</td>\n",
              "    </tr>\n",
              "    <tr>\n",
              "      <th>1</th>\n",
              "      <td>2</td>\n",
              "      <td>Berkshire Hathaway</td>\n",
              "      <td>367700</td>\n",
              "      <td>Financials</td>\n",
              "      <td>Insurance: Property and Casualty (Stock)</td>\n",
              "      <td>Omaha</td>\n",
              "      <td>Warren E. Buffett</td>\n",
              "      <td>Chairman &amp; Chief Executive Officer</td>\n",
              "      <td>223604</td>\n",
              "      <td>6.1</td>\n",
              "      <td>24074.0</td>\n",
              "      <td>0</td>\n",
              "      <td>620854</td>\n",
              "    </tr>\n",
              "    <tr>\n",
              "      <th>2</th>\n",
              "      <td>3</td>\n",
              "      <td>Apple</td>\n",
              "      <td>116000</td>\n",
              "      <td>Technology</td>\n",
              "      <td>Computers, Office Equipment</td>\n",
              "      <td>Cupertino</td>\n",
              "      <td>Timothy D. Cook</td>\n",
              "      <td>Chief Executive Officer &amp; Director</td>\n",
              "      <td>215639</td>\n",
              "      <td>-7.7</td>\n",
              "      <td>45687.0</td>\n",
              "      <td>-14.4</td>\n",
              "      <td>321686</td>\n",
              "    </tr>\n",
              "    <tr>\n",
              "      <th>3</th>\n",
              "      <td>4</td>\n",
              "      <td>Exxon Mobil</td>\n",
              "      <td>72700</td>\n",
              "      <td>Energy</td>\n",
              "      <td>Petroleum Refining</td>\n",
              "      <td>Irving</td>\n",
              "      <td>Darren W. Woods</td>\n",
              "      <td>Chairman &amp; Chief Executive Officer</td>\n",
              "      <td>205004</td>\n",
              "      <td>-16.7</td>\n",
              "      <td>7840.0</td>\n",
              "      <td>-51.5</td>\n",
              "      <td>330314</td>\n",
              "    </tr>\n",
              "    <tr>\n",
              "      <th>4</th>\n",
              "      <td>5</td>\n",
              "      <td>McKesson</td>\n",
              "      <td>68000</td>\n",
              "      <td>Wholesalers</td>\n",
              "      <td>Wholesalers: Health Care</td>\n",
              "      <td>San Francisco</td>\n",
              "      <td>John H. Hammergren</td>\n",
              "      <td>Chairman, President &amp; Chief Executive Officer</td>\n",
              "      <td>192487</td>\n",
              "      <td>6.2</td>\n",
              "      <td>2258.0</td>\n",
              "      <td>53</td>\n",
              "      <td>56563</td>\n",
              "    </tr>\n",
              "  </tbody>\n",
              "</table>\n",
              "</div>\n",
              "    <div class=\"colab-df-buttons\">\n",
              "\n",
              "  <div class=\"colab-df-container\">\n",
              "    <button class=\"colab-df-convert\" onclick=\"convertToInteractive('df-45245981-6af1-4b8a-a4aa-211713c158bd')\"\n",
              "            title=\"Convert this dataframe to an interactive table.\"\n",
              "            style=\"display:none;\">\n",
              "\n",
              "  <svg xmlns=\"http://www.w3.org/2000/svg\" height=\"24px\" viewBox=\"0 -960 960 960\">\n",
              "    <path d=\"M120-120v-720h720v720H120Zm60-500h600v-160H180v160Zm220 220h160v-160H400v160Zm0 220h160v-160H400v160ZM180-400h160v-160H180v160Zm440 0h160v-160H620v160ZM180-180h160v-160H180v160Zm440 0h160v-160H620v160Z\"/>\n",
              "  </svg>\n",
              "    </button>\n",
              "\n",
              "  <style>\n",
              "    .colab-df-container {\n",
              "      display:flex;\n",
              "      gap: 12px;\n",
              "    }\n",
              "\n",
              "    .colab-df-convert {\n",
              "      background-color: #E8F0FE;\n",
              "      border: none;\n",
              "      border-radius: 50%;\n",
              "      cursor: pointer;\n",
              "      display: none;\n",
              "      fill: #1967D2;\n",
              "      height: 32px;\n",
              "      padding: 0 0 0 0;\n",
              "      width: 32px;\n",
              "    }\n",
              "\n",
              "    .colab-df-convert:hover {\n",
              "      background-color: #E2EBFA;\n",
              "      box-shadow: 0px 1px 2px rgba(60, 64, 67, 0.3), 0px 1px 3px 1px rgba(60, 64, 67, 0.15);\n",
              "      fill: #174EA6;\n",
              "    }\n",
              "\n",
              "    .colab-df-buttons div {\n",
              "      margin-bottom: 4px;\n",
              "    }\n",
              "\n",
              "    [theme=dark] .colab-df-convert {\n",
              "      background-color: #3B4455;\n",
              "      fill: #D2E3FC;\n",
              "    }\n",
              "\n",
              "    [theme=dark] .colab-df-convert:hover {\n",
              "      background-color: #434B5C;\n",
              "      box-shadow: 0px 1px 3px 1px rgba(0, 0, 0, 0.15);\n",
              "      filter: drop-shadow(0px 1px 2px rgba(0, 0, 0, 0.3));\n",
              "      fill: #FFFFFF;\n",
              "    }\n",
              "  </style>\n",
              "\n",
              "    <script>\n",
              "      const buttonEl =\n",
              "        document.querySelector('#df-45245981-6af1-4b8a-a4aa-211713c158bd button.colab-df-convert');\n",
              "      buttonEl.style.display =\n",
              "        google.colab.kernel.accessAllowed ? 'block' : 'none';\n",
              "\n",
              "      async function convertToInteractive(key) {\n",
              "        const element = document.querySelector('#df-45245981-6af1-4b8a-a4aa-211713c158bd');\n",
              "        const dataTable =\n",
              "          await google.colab.kernel.invokeFunction('convertToInteractive',\n",
              "                                                    [key], {});\n",
              "        if (!dataTable) return;\n",
              "\n",
              "        const docLinkHtml = 'Like what you see? Visit the ' +\n",
              "          '<a target=\"_blank\" href=https://colab.research.google.com/notebooks/data_table.ipynb>data table notebook</a>'\n",
              "          + ' to learn more about interactive tables.';\n",
              "        element.innerHTML = '';\n",
              "        dataTable['output_type'] = 'display_data';\n",
              "        await google.colab.output.renderOutput(dataTable, element);\n",
              "        const docLink = document.createElement('div');\n",
              "        docLink.innerHTML = docLinkHtml;\n",
              "        element.appendChild(docLink);\n",
              "      }\n",
              "    </script>\n",
              "  </div>\n",
              "\n",
              "\n",
              "<div id=\"df-777fc3bf-1ca6-497d-b0ca-199e996a3ff0\">\n",
              "  <button class=\"colab-df-quickchart\" onclick=\"quickchart('df-777fc3bf-1ca6-497d-b0ca-199e996a3ff0')\"\n",
              "            title=\"Suggest charts\"\n",
              "            style=\"display:none;\">\n",
              "\n",
              "<svg xmlns=\"http://www.w3.org/2000/svg\" height=\"24px\"viewBox=\"0 0 24 24\"\n",
              "     width=\"24px\">\n",
              "    <g>\n",
              "        <path d=\"M19 3H5c-1.1 0-2 .9-2 2v14c0 1.1.9 2 2 2h14c1.1 0 2-.9 2-2V5c0-1.1-.9-2-2-2zM9 17H7v-7h2v7zm4 0h-2V7h2v10zm4 0h-2v-4h2v4z\"/>\n",
              "    </g>\n",
              "</svg>\n",
              "  </button>\n",
              "\n",
              "<style>\n",
              "  .colab-df-quickchart {\n",
              "      --bg-color: #E8F0FE;\n",
              "      --fill-color: #1967D2;\n",
              "      --hover-bg-color: #E2EBFA;\n",
              "      --hover-fill-color: #174EA6;\n",
              "      --disabled-fill-color: #AAA;\n",
              "      --disabled-bg-color: #DDD;\n",
              "  }\n",
              "\n",
              "  [theme=dark] .colab-df-quickchart {\n",
              "      --bg-color: #3B4455;\n",
              "      --fill-color: #D2E3FC;\n",
              "      --hover-bg-color: #434B5C;\n",
              "      --hover-fill-color: #FFFFFF;\n",
              "      --disabled-bg-color: #3B4455;\n",
              "      --disabled-fill-color: #666;\n",
              "  }\n",
              "\n",
              "  .colab-df-quickchart {\n",
              "    background-color: var(--bg-color);\n",
              "    border: none;\n",
              "    border-radius: 50%;\n",
              "    cursor: pointer;\n",
              "    display: none;\n",
              "    fill: var(--fill-color);\n",
              "    height: 32px;\n",
              "    padding: 0;\n",
              "    width: 32px;\n",
              "  }\n",
              "\n",
              "  .colab-df-quickchart:hover {\n",
              "    background-color: var(--hover-bg-color);\n",
              "    box-shadow: 0 1px 2px rgba(60, 64, 67, 0.3), 0 1px 3px 1px rgba(60, 64, 67, 0.15);\n",
              "    fill: var(--button-hover-fill-color);\n",
              "  }\n",
              "\n",
              "  .colab-df-quickchart-complete:disabled,\n",
              "  .colab-df-quickchart-complete:disabled:hover {\n",
              "    background-color: var(--disabled-bg-color);\n",
              "    fill: var(--disabled-fill-color);\n",
              "    box-shadow: none;\n",
              "  }\n",
              "\n",
              "  .colab-df-spinner {\n",
              "    border: 2px solid var(--fill-color);\n",
              "    border-color: transparent;\n",
              "    border-bottom-color: var(--fill-color);\n",
              "    animation:\n",
              "      spin 1s steps(1) infinite;\n",
              "  }\n",
              "\n",
              "  @keyframes spin {\n",
              "    0% {\n",
              "      border-color: transparent;\n",
              "      border-bottom-color: var(--fill-color);\n",
              "      border-left-color: var(--fill-color);\n",
              "    }\n",
              "    20% {\n",
              "      border-color: transparent;\n",
              "      border-left-color: var(--fill-color);\n",
              "      border-top-color: var(--fill-color);\n",
              "    }\n",
              "    30% {\n",
              "      border-color: transparent;\n",
              "      border-left-color: var(--fill-color);\n",
              "      border-top-color: var(--fill-color);\n",
              "      border-right-color: var(--fill-color);\n",
              "    }\n",
              "    40% {\n",
              "      border-color: transparent;\n",
              "      border-right-color: var(--fill-color);\n",
              "      border-top-color: var(--fill-color);\n",
              "    }\n",
              "    60% {\n",
              "      border-color: transparent;\n",
              "      border-right-color: var(--fill-color);\n",
              "    }\n",
              "    80% {\n",
              "      border-color: transparent;\n",
              "      border-right-color: var(--fill-color);\n",
              "      border-bottom-color: var(--fill-color);\n",
              "    }\n",
              "    90% {\n",
              "      border-color: transparent;\n",
              "      border-bottom-color: var(--fill-color);\n",
              "    }\n",
              "  }\n",
              "</style>\n",
              "\n",
              "  <script>\n",
              "    async function quickchart(key) {\n",
              "      const quickchartButtonEl =\n",
              "        document.querySelector('#' + key + ' button');\n",
              "      quickchartButtonEl.disabled = true;  // To prevent multiple clicks.\n",
              "      quickchartButtonEl.classList.add('colab-df-spinner');\n",
              "      try {\n",
              "        const charts = await google.colab.kernel.invokeFunction(\n",
              "            'suggestCharts', [key], {});\n",
              "      } catch (error) {\n",
              "        console.error('Error during call to suggestCharts:', error);\n",
              "      }\n",
              "      quickchartButtonEl.classList.remove('colab-df-spinner');\n",
              "      quickchartButtonEl.classList.add('colab-df-quickchart-complete');\n",
              "    }\n",
              "    (() => {\n",
              "      let quickchartButtonEl =\n",
              "        document.querySelector('#df-777fc3bf-1ca6-497d-b0ca-199e996a3ff0 button');\n",
              "      quickchartButtonEl.style.display =\n",
              "        google.colab.kernel.accessAllowed ? 'block' : 'none';\n",
              "    })();\n",
              "  </script>\n",
              "</div>\n",
              "\n",
              "    </div>\n",
              "  </div>\n"
            ],
            "application/vnd.google.colaboratory.intrinsic+json": {
              "type": "dataframe",
              "variable_name": "df",
              "summary": "{\n  \"name\": \"df\",\n  \"rows\": 500,\n  \"fields\": [\n    {\n      \"column\": \"Rank\",\n      \"properties\": {\n        \"dtype\": \"number\",\n        \"std\": 144,\n        \"min\": 1,\n        \"max\": 500,\n        \"num_unique_values\": 497,\n        \"samples\": [\n          487,\n          74,\n          232\n        ],\n        \"semantic_type\": \"\",\n        \"description\": \"\"\n      }\n    },\n    {\n      \"column\": \"Title\",\n      \"properties\": {\n        \"dtype\": \"string\",\n        \"num_unique_values\": 500,\n        \"samples\": [\n          \"CenterPoint Energy\",\n          \"Caterpillar\",\n          \"National Oilwell Varco\"\n        ],\n        \"semantic_type\": \"\",\n        \"description\": \"\"\n      }\n    },\n    {\n      \"column\": \"Employees\",\n      \"properties\": {\n        \"dtype\": \"number\",\n        \"std\": 123452,\n        \"min\": 83,\n        \"max\": 2300000,\n        \"num_unique_values\": 399,\n        \"samples\": [\n          72878,\n          8500,\n          14800\n        ],\n        \"semantic_type\": \"\",\n        \"description\": \"\"\n      }\n    },\n    {\n      \"column\": \"Sector\",\n      \"properties\": {\n        \"dtype\": \"category\",\n        \"num_unique_values\": 21,\n        \"samples\": [\n          \"Retailing\",\n          \"Hotels, Restaurants & Leisure\",\n          \"Chemicals\"\n        ],\n        \"semantic_type\": \"\",\n        \"description\": \"\"\n      }\n    },\n    {\n      \"column\": \"Industry\",\n      \"properties\": {\n        \"dtype\": \"category\",\n        \"num_unique_values\": 73,\n        \"samples\": [\n          \"Wholesalers: Health Care\",\n          \"Home Equipment, Furnishings\",\n          \"Insurance: Property and Casualty (Mutual)\"\n        ],\n        \"semantic_type\": \"\",\n        \"description\": \"\"\n      }\n    },\n    {\n      \"column\": \"Hqcity\",\n      \"properties\": {\n        \"dtype\": \"category\",\n        \"num_unique_values\": 239,\n        \"samples\": [\n          \"Mountain View\",\n          \"Woonsocket\",\n          \"Chesapeake\"\n        ],\n        \"semantic_type\": \"\",\n        \"description\": \"\"\n      }\n    },\n    {\n      \"column\": \"Ceo\",\n      \"properties\": {\n        \"dtype\": \"string\",\n        \"num_unique_values\": 496,\n        \"samples\": [\n          \"Thomas S. Gayner, Richard R. Whitt III\",\n          \"D. James Umpleby III\",\n          \"David V. Auld\"\n        ],\n        \"semantic_type\": \"\",\n        \"description\": \"\"\n      }\n    },\n    {\n      \"column\": \"Ceo-title\",\n      \"properties\": {\n        \"dtype\": \"category\",\n        \"num_unique_values\": 12,\n        \"samples\": [\n          \"Co-President, Co-Chief Executive Officer & Director\",\n          \"Interim Chief Executive Officer & Director\",\n          \"President, Chief Executive Officer & Director\"\n        ],\n        \"semantic_type\": \"\",\n        \"description\": \"\"\n      }\n    },\n    {\n      \"column\": \"Revenues\",\n      \"properties\": {\n        \"dtype\": \"number\",\n        \"std\": 38337,\n        \"min\": 5145,\n        \"max\": 485873,\n        \"num_unique_values\": 495,\n        \"samples\": [\n          5595,\n          38537,\n          8831\n        ],\n        \"semantic_type\": \"\",\n        \"description\": \"\"\n      }\n    },\n    {\n      \"column\": \"Revchange\",\n      \"properties\": {\n        \"dtype\": \"number\",\n        \"std\": 19.967480475841363,\n        \"min\": -57.5,\n        \"max\": 197.3,\n        \"num_unique_values\": 287,\n        \"samples\": [\n          1.5,\n          3.8,\n          -4.5\n        ],\n        \"semantic_type\": \"\",\n        \"description\": \"\"\n      }\n    },\n    {\n      \"column\": \"Profits\",\n      \"properties\": {\n        \"dtype\": \"number\",\n        \"std\": 3937.558720894575,\n        \"min\": -6177.0,\n        \"max\": 45687.0,\n        \"num_unique_values\": 494,\n        \"samples\": [\n          455.7,\n          -67.0,\n          352.0\n        ],\n        \"semantic_type\": \"\",\n        \"description\": \"\"\n      }\n    },\n    {\n      \"column\": \"Prftchange\",\n      \"properties\": {\n        \"dtype\": \"string\",\n        \"num_unique_values\": 377,\n        \"samples\": [\n          \"-86.7\",\n          \"-2.3\",\n          \"57.8\"\n        ],\n        \"semantic_type\": \"\",\n        \"description\": \"\"\n      }\n    },\n    {\n      \"column\": \"Assets\",\n      \"properties\": {\n        \"dtype\": \"number\",\n        \"std\": 270425,\n        \"min\": 437,\n        \"max\": 3287968,\n        \"num_unique_values\": 498,\n        \"samples\": [\n          2028,\n          74704,\n          11559\n        ],\n        \"semantic_type\": \"\",\n        \"description\": \"\"\n      }\n    }\n  ]\n}"
            }
          },
          "metadata": {},
          "execution_count": 3
        }
      ]
    },
    {
      "cell_type": "code",
      "source": [
        "# Last 5 rows\n",
        "df.tail()"
      ],
      "metadata": {
        "colab": {
          "base_uri": "https://localhost:8080/",
          "height": 518
        },
        "id": "56XXstfNGRLY",
        "outputId": "9e4457e0-da06-4f14-a588-33aea7cb27ad"
      },
      "execution_count": null,
      "outputs": [
        {
          "output_type": "execute_result",
          "data": {
            "text/plain": [
              "     Rank           Title  Employees                      Sector  \\\n",
              "495   496   Michaels Cos.      31000                   Retailing   \n",
              "496   497   Toll Brothers       4200  Engineering & Construction   \n",
              "497   498           Yahoo       8500                  Technology   \n",
              "498   499   Vistra Energy       4431                      Energy   \n",
              "499   500  ABM Industries     110000           Business Services   \n",
              "\n",
              "                             Industry     Hqcity                     Ceo  \\\n",
              "495        Specialty Retailers: Other     Irving           Carl S. Rubin   \n",
              "496                      Homebuilders    Horsham  Douglas C. Yearley Jr.   \n",
              "497   Internet Services and Retailing  Sunnyvale        Marissa A. Mayer   \n",
              "498                            Energy     Dallas        Curtis A. Morgan   \n",
              "499  Diversified Outsourcing Services   New York        Scott B. Salmirs   \n",
              "\n",
              "                                         Ceo-title  Revenues  Revchange  \\\n",
              "495             Chairman & Chief Executive Officer      5197        5.8   \n",
              "496             Chief Executive Officer & Director      5170       23.9   \n",
              "497  President, Chief Executive Officer & Director      5169        4.0   \n",
              "498  President, Chief Executive Officer & Director      5164        4.0   \n",
              "499  President, Chief Executive Officer & Director      5145       -2.8   \n",
              "\n",
              "     Profits Prftchange  Assets  \n",
              "495    378.2        4.2    2148  \n",
              "496    382.1        5.2    9737  \n",
              "497   -214.3        5.2   48083  \n",
              "498   -214.3        5.2   15167  \n",
              "499     57.2        -25    2281  "
            ],
            "text/html": [
              "\n",
              "  <div id=\"df-e30a3415-765e-4e8b-a0f3-07d512a5da16\" class=\"colab-df-container\">\n",
              "    <div>\n",
              "<style scoped>\n",
              "    .dataframe tbody tr th:only-of-type {\n",
              "        vertical-align: middle;\n",
              "    }\n",
              "\n",
              "    .dataframe tbody tr th {\n",
              "        vertical-align: top;\n",
              "    }\n",
              "\n",
              "    .dataframe thead th {\n",
              "        text-align: right;\n",
              "    }\n",
              "</style>\n",
              "<table border=\"1\" class=\"dataframe\">\n",
              "  <thead>\n",
              "    <tr style=\"text-align: right;\">\n",
              "      <th></th>\n",
              "      <th>Rank</th>\n",
              "      <th>Title</th>\n",
              "      <th>Employees</th>\n",
              "      <th>Sector</th>\n",
              "      <th>Industry</th>\n",
              "      <th>Hqcity</th>\n",
              "      <th>Ceo</th>\n",
              "      <th>Ceo-title</th>\n",
              "      <th>Revenues</th>\n",
              "      <th>Revchange</th>\n",
              "      <th>Profits</th>\n",
              "      <th>Prftchange</th>\n",
              "      <th>Assets</th>\n",
              "    </tr>\n",
              "  </thead>\n",
              "  <tbody>\n",
              "    <tr>\n",
              "      <th>495</th>\n",
              "      <td>496</td>\n",
              "      <td>Michaels Cos.</td>\n",
              "      <td>31000</td>\n",
              "      <td>Retailing</td>\n",
              "      <td>Specialty Retailers: Other</td>\n",
              "      <td>Irving</td>\n",
              "      <td>Carl S. Rubin</td>\n",
              "      <td>Chairman &amp; Chief Executive Officer</td>\n",
              "      <td>5197</td>\n",
              "      <td>5.8</td>\n",
              "      <td>378.2</td>\n",
              "      <td>4.2</td>\n",
              "      <td>2148</td>\n",
              "    </tr>\n",
              "    <tr>\n",
              "      <th>496</th>\n",
              "      <td>497</td>\n",
              "      <td>Toll Brothers</td>\n",
              "      <td>4200</td>\n",
              "      <td>Engineering &amp; Construction</td>\n",
              "      <td>Homebuilders</td>\n",
              "      <td>Horsham</td>\n",
              "      <td>Douglas C. Yearley Jr.</td>\n",
              "      <td>Chief Executive Officer &amp; Director</td>\n",
              "      <td>5170</td>\n",
              "      <td>23.9</td>\n",
              "      <td>382.1</td>\n",
              "      <td>5.2</td>\n",
              "      <td>9737</td>\n",
              "    </tr>\n",
              "    <tr>\n",
              "      <th>497</th>\n",
              "      <td>498</td>\n",
              "      <td>Yahoo</td>\n",
              "      <td>8500</td>\n",
              "      <td>Technology</td>\n",
              "      <td>Internet Services and Retailing</td>\n",
              "      <td>Sunnyvale</td>\n",
              "      <td>Marissa A. Mayer</td>\n",
              "      <td>President, Chief Executive Officer &amp; Director</td>\n",
              "      <td>5169</td>\n",
              "      <td>4.0</td>\n",
              "      <td>-214.3</td>\n",
              "      <td>5.2</td>\n",
              "      <td>48083</td>\n",
              "    </tr>\n",
              "    <tr>\n",
              "      <th>498</th>\n",
              "      <td>499</td>\n",
              "      <td>Vistra Energy</td>\n",
              "      <td>4431</td>\n",
              "      <td>Energy</td>\n",
              "      <td>Energy</td>\n",
              "      <td>Dallas</td>\n",
              "      <td>Curtis A. Morgan</td>\n",
              "      <td>President, Chief Executive Officer &amp; Director</td>\n",
              "      <td>5164</td>\n",
              "      <td>4.0</td>\n",
              "      <td>-214.3</td>\n",
              "      <td>5.2</td>\n",
              "      <td>15167</td>\n",
              "    </tr>\n",
              "    <tr>\n",
              "      <th>499</th>\n",
              "      <td>500</td>\n",
              "      <td>ABM Industries</td>\n",
              "      <td>110000</td>\n",
              "      <td>Business Services</td>\n",
              "      <td>Diversified Outsourcing Services</td>\n",
              "      <td>New York</td>\n",
              "      <td>Scott B. Salmirs</td>\n",
              "      <td>President, Chief Executive Officer &amp; Director</td>\n",
              "      <td>5145</td>\n",
              "      <td>-2.8</td>\n",
              "      <td>57.2</td>\n",
              "      <td>-25</td>\n",
              "      <td>2281</td>\n",
              "    </tr>\n",
              "  </tbody>\n",
              "</table>\n",
              "</div>\n",
              "    <div class=\"colab-df-buttons\">\n",
              "\n",
              "  <div class=\"colab-df-container\">\n",
              "    <button class=\"colab-df-convert\" onclick=\"convertToInteractive('df-e30a3415-765e-4e8b-a0f3-07d512a5da16')\"\n",
              "            title=\"Convert this dataframe to an interactive table.\"\n",
              "            style=\"display:none;\">\n",
              "\n",
              "  <svg xmlns=\"http://www.w3.org/2000/svg\" height=\"24px\" viewBox=\"0 -960 960 960\">\n",
              "    <path d=\"M120-120v-720h720v720H120Zm60-500h600v-160H180v160Zm220 220h160v-160H400v160Zm0 220h160v-160H400v160ZM180-400h160v-160H180v160Zm440 0h160v-160H620v160ZM180-180h160v-160H180v160Zm440 0h160v-160H620v160Z\"/>\n",
              "  </svg>\n",
              "    </button>\n",
              "\n",
              "  <style>\n",
              "    .colab-df-container {\n",
              "      display:flex;\n",
              "      gap: 12px;\n",
              "    }\n",
              "\n",
              "    .colab-df-convert {\n",
              "      background-color: #E8F0FE;\n",
              "      border: none;\n",
              "      border-radius: 50%;\n",
              "      cursor: pointer;\n",
              "      display: none;\n",
              "      fill: #1967D2;\n",
              "      height: 32px;\n",
              "      padding: 0 0 0 0;\n",
              "      width: 32px;\n",
              "    }\n",
              "\n",
              "    .colab-df-convert:hover {\n",
              "      background-color: #E2EBFA;\n",
              "      box-shadow: 0px 1px 2px rgba(60, 64, 67, 0.3), 0px 1px 3px 1px rgba(60, 64, 67, 0.15);\n",
              "      fill: #174EA6;\n",
              "    }\n",
              "\n",
              "    .colab-df-buttons div {\n",
              "      margin-bottom: 4px;\n",
              "    }\n",
              "\n",
              "    [theme=dark] .colab-df-convert {\n",
              "      background-color: #3B4455;\n",
              "      fill: #D2E3FC;\n",
              "    }\n",
              "\n",
              "    [theme=dark] .colab-df-convert:hover {\n",
              "      background-color: #434B5C;\n",
              "      box-shadow: 0px 1px 3px 1px rgba(0, 0, 0, 0.15);\n",
              "      filter: drop-shadow(0px 1px 2px rgba(0, 0, 0, 0.3));\n",
              "      fill: #FFFFFF;\n",
              "    }\n",
              "  </style>\n",
              "\n",
              "    <script>\n",
              "      const buttonEl =\n",
              "        document.querySelector('#df-e30a3415-765e-4e8b-a0f3-07d512a5da16 button.colab-df-convert');\n",
              "      buttonEl.style.display =\n",
              "        google.colab.kernel.accessAllowed ? 'block' : 'none';\n",
              "\n",
              "      async function convertToInteractive(key) {\n",
              "        const element = document.querySelector('#df-e30a3415-765e-4e8b-a0f3-07d512a5da16');\n",
              "        const dataTable =\n",
              "          await google.colab.kernel.invokeFunction('convertToInteractive',\n",
              "                                                    [key], {});\n",
              "        if (!dataTable) return;\n",
              "\n",
              "        const docLinkHtml = 'Like what you see? Visit the ' +\n",
              "          '<a target=\"_blank\" href=https://colab.research.google.com/notebooks/data_table.ipynb>data table notebook</a>'\n",
              "          + ' to learn more about interactive tables.';\n",
              "        element.innerHTML = '';\n",
              "        dataTable['output_type'] = 'display_data';\n",
              "        await google.colab.output.renderOutput(dataTable, element);\n",
              "        const docLink = document.createElement('div');\n",
              "        docLink.innerHTML = docLinkHtml;\n",
              "        element.appendChild(docLink);\n",
              "      }\n",
              "    </script>\n",
              "  </div>\n",
              "\n",
              "\n",
              "<div id=\"df-40980645-02f6-47a7-92b3-fde8062ab64d\">\n",
              "  <button class=\"colab-df-quickchart\" onclick=\"quickchart('df-40980645-02f6-47a7-92b3-fde8062ab64d')\"\n",
              "            title=\"Suggest charts\"\n",
              "            style=\"display:none;\">\n",
              "\n",
              "<svg xmlns=\"http://www.w3.org/2000/svg\" height=\"24px\"viewBox=\"0 0 24 24\"\n",
              "     width=\"24px\">\n",
              "    <g>\n",
              "        <path d=\"M19 3H5c-1.1 0-2 .9-2 2v14c0 1.1.9 2 2 2h14c1.1 0 2-.9 2-2V5c0-1.1-.9-2-2-2zM9 17H7v-7h2v7zm4 0h-2V7h2v10zm4 0h-2v-4h2v4z\"/>\n",
              "    </g>\n",
              "</svg>\n",
              "  </button>\n",
              "\n",
              "<style>\n",
              "  .colab-df-quickchart {\n",
              "      --bg-color: #E8F0FE;\n",
              "      --fill-color: #1967D2;\n",
              "      --hover-bg-color: #E2EBFA;\n",
              "      --hover-fill-color: #174EA6;\n",
              "      --disabled-fill-color: #AAA;\n",
              "      --disabled-bg-color: #DDD;\n",
              "  }\n",
              "\n",
              "  [theme=dark] .colab-df-quickchart {\n",
              "      --bg-color: #3B4455;\n",
              "      --fill-color: #D2E3FC;\n",
              "      --hover-bg-color: #434B5C;\n",
              "      --hover-fill-color: #FFFFFF;\n",
              "      --disabled-bg-color: #3B4455;\n",
              "      --disabled-fill-color: #666;\n",
              "  }\n",
              "\n",
              "  .colab-df-quickchart {\n",
              "    background-color: var(--bg-color);\n",
              "    border: none;\n",
              "    border-radius: 50%;\n",
              "    cursor: pointer;\n",
              "    display: none;\n",
              "    fill: var(--fill-color);\n",
              "    height: 32px;\n",
              "    padding: 0;\n",
              "    width: 32px;\n",
              "  }\n",
              "\n",
              "  .colab-df-quickchart:hover {\n",
              "    background-color: var(--hover-bg-color);\n",
              "    box-shadow: 0 1px 2px rgba(60, 64, 67, 0.3), 0 1px 3px 1px rgba(60, 64, 67, 0.15);\n",
              "    fill: var(--button-hover-fill-color);\n",
              "  }\n",
              "\n",
              "  .colab-df-quickchart-complete:disabled,\n",
              "  .colab-df-quickchart-complete:disabled:hover {\n",
              "    background-color: var(--disabled-bg-color);\n",
              "    fill: var(--disabled-fill-color);\n",
              "    box-shadow: none;\n",
              "  }\n",
              "\n",
              "  .colab-df-spinner {\n",
              "    border: 2px solid var(--fill-color);\n",
              "    border-color: transparent;\n",
              "    border-bottom-color: var(--fill-color);\n",
              "    animation:\n",
              "      spin 1s steps(1) infinite;\n",
              "  }\n",
              "\n",
              "  @keyframes spin {\n",
              "    0% {\n",
              "      border-color: transparent;\n",
              "      border-bottom-color: var(--fill-color);\n",
              "      border-left-color: var(--fill-color);\n",
              "    }\n",
              "    20% {\n",
              "      border-color: transparent;\n",
              "      border-left-color: var(--fill-color);\n",
              "      border-top-color: var(--fill-color);\n",
              "    }\n",
              "    30% {\n",
              "      border-color: transparent;\n",
              "      border-left-color: var(--fill-color);\n",
              "      border-top-color: var(--fill-color);\n",
              "      border-right-color: var(--fill-color);\n",
              "    }\n",
              "    40% {\n",
              "      border-color: transparent;\n",
              "      border-right-color: var(--fill-color);\n",
              "      border-top-color: var(--fill-color);\n",
              "    }\n",
              "    60% {\n",
              "      border-color: transparent;\n",
              "      border-right-color: var(--fill-color);\n",
              "    }\n",
              "    80% {\n",
              "      border-color: transparent;\n",
              "      border-right-color: var(--fill-color);\n",
              "      border-bottom-color: var(--fill-color);\n",
              "    }\n",
              "    90% {\n",
              "      border-color: transparent;\n",
              "      border-bottom-color: var(--fill-color);\n",
              "    }\n",
              "  }\n",
              "</style>\n",
              "\n",
              "  <script>\n",
              "    async function quickchart(key) {\n",
              "      const quickchartButtonEl =\n",
              "        document.querySelector('#' + key + ' button');\n",
              "      quickchartButtonEl.disabled = true;  // To prevent multiple clicks.\n",
              "      quickchartButtonEl.classList.add('colab-df-spinner');\n",
              "      try {\n",
              "        const charts = await google.colab.kernel.invokeFunction(\n",
              "            'suggestCharts', [key], {});\n",
              "      } catch (error) {\n",
              "        console.error('Error during call to suggestCharts:', error);\n",
              "      }\n",
              "      quickchartButtonEl.classList.remove('colab-df-spinner');\n",
              "      quickchartButtonEl.classList.add('colab-df-quickchart-complete');\n",
              "    }\n",
              "    (() => {\n",
              "      let quickchartButtonEl =\n",
              "        document.querySelector('#df-40980645-02f6-47a7-92b3-fde8062ab64d button');\n",
              "      quickchartButtonEl.style.display =\n",
              "        google.colab.kernel.accessAllowed ? 'block' : 'none';\n",
              "    })();\n",
              "  </script>\n",
              "</div>\n",
              "\n",
              "    </div>\n",
              "  </div>\n"
            ],
            "application/vnd.google.colaboratory.intrinsic+json": {
              "type": "dataframe",
              "summary": "{\n  \"name\": \"df\",\n  \"rows\": 5,\n  \"fields\": [\n    {\n      \"column\": \"Rank\",\n      \"properties\": {\n        \"dtype\": \"number\",\n        \"std\": 1,\n        \"min\": 496,\n        \"max\": 500,\n        \"num_unique_values\": 5,\n        \"samples\": [\n          497,\n          500,\n          498\n        ],\n        \"semantic_type\": \"\",\n        \"description\": \"\"\n      }\n    },\n    {\n      \"column\": \"Title\",\n      \"properties\": {\n        \"dtype\": \"string\",\n        \"num_unique_values\": 5,\n        \"samples\": [\n          \"Toll Brothers\",\n          \"ABM Industries\",\n          \"Yahoo\"\n        ],\n        \"semantic_type\": \"\",\n        \"description\": \"\"\n      }\n    },\n    {\n      \"column\": \"Employees\",\n      \"properties\": {\n        \"dtype\": \"number\",\n        \"std\": 45192,\n        \"min\": 4200,\n        \"max\": 110000,\n        \"num_unique_values\": 5,\n        \"samples\": [\n          4200,\n          110000,\n          8500\n        ],\n        \"semantic_type\": \"\",\n        \"description\": \"\"\n      }\n    },\n    {\n      \"column\": \"Sector\",\n      \"properties\": {\n        \"dtype\": \"string\",\n        \"num_unique_values\": 5,\n        \"samples\": [\n          \"Engineering & Construction\",\n          \"Business Services\",\n          \"Technology\"\n        ],\n        \"semantic_type\": \"\",\n        \"description\": \"\"\n      }\n    },\n    {\n      \"column\": \"Industry\",\n      \"properties\": {\n        \"dtype\": \"string\",\n        \"num_unique_values\": 5,\n        \"samples\": [\n          \"Homebuilders\",\n          \"Diversified Outsourcing Services\",\n          \"Internet Services and Retailing\"\n        ],\n        \"semantic_type\": \"\",\n        \"description\": \"\"\n      }\n    },\n    {\n      \"column\": \"Hqcity\",\n      \"properties\": {\n        \"dtype\": \"string\",\n        \"num_unique_values\": 5,\n        \"samples\": [\n          \"Horsham\",\n          \"New York\",\n          \"Sunnyvale\"\n        ],\n        \"semantic_type\": \"\",\n        \"description\": \"\"\n      }\n    },\n    {\n      \"column\": \"Ceo\",\n      \"properties\": {\n        \"dtype\": \"string\",\n        \"num_unique_values\": 5,\n        \"samples\": [\n          \"Douglas C. Yearley Jr.\",\n          \"Scott B. Salmirs\",\n          \"Marissa A. Mayer\"\n        ],\n        \"semantic_type\": \"\",\n        \"description\": \"\"\n      }\n    },\n    {\n      \"column\": \"Ceo-title\",\n      \"properties\": {\n        \"dtype\": \"string\",\n        \"num_unique_values\": 3,\n        \"samples\": [\n          \"Chairman & Chief Executive Officer\",\n          \"Chief Executive Officer & Director\",\n          \"President, Chief Executive Officer & Director\"\n        ],\n        \"semantic_type\": \"\",\n        \"description\": \"\"\n      }\n    },\n    {\n      \"column\": \"Revenues\",\n      \"properties\": {\n        \"dtype\": \"number\",\n        \"std\": 18,\n        \"min\": 5145,\n        \"max\": 5197,\n        \"num_unique_values\": 5,\n        \"samples\": [\n          5170,\n          5145,\n          5169\n        ],\n        \"semantic_type\": \"\",\n        \"description\": \"\"\n      }\n    },\n    {\n      \"column\": \"Revchange\",\n      \"properties\": {\n        \"dtype\": \"number\",\n        \"std\": 10.01359076455594,\n        \"min\": -2.8,\n        \"max\": 23.9,\n        \"num_unique_values\": 4,\n        \"samples\": [\n          23.9,\n          -2.8,\n          5.8\n        ],\n        \"semantic_type\": \"\",\n        \"description\": \"\"\n      }\n    },\n    {\n      \"column\": \"Profits\",\n      \"properties\": {\n        \"dtype\": \"number\",\n        \"std\": 297.45076399296744,\n        \"min\": -214.3,\n        \"max\": 382.1,\n        \"num_unique_values\": 4,\n        \"samples\": [\n          382.1,\n          57.2,\n          378.2\n        ],\n        \"semantic_type\": \"\",\n        \"description\": \"\"\n      }\n    },\n    {\n      \"column\": \"Prftchange\",\n      \"properties\": {\n        \"dtype\": \"string\",\n        \"num_unique_values\": 3,\n        \"samples\": [\n          \"4.2\",\n          \"5.2\",\n          \"-25\"\n        ],\n        \"semantic_type\": \"\",\n        \"description\": \"\"\n      }\n    },\n    {\n      \"column\": \"Assets\",\n      \"properties\": {\n        \"dtype\": \"number\",\n        \"std\": 19026,\n        \"min\": 2148,\n        \"max\": 48083,\n        \"num_unique_values\": 5,\n        \"samples\": [\n          9737,\n          2281,\n          48083\n        ],\n        \"semantic_type\": \"\",\n        \"description\": \"\"\n      }\n    }\n  ]\n}"
            }
          },
          "metadata": {},
          "execution_count": 4
        }
      ]
    },
    {
      "cell_type": "code",
      "source": [
        "# Shape Rows and columns\n",
        "df.shape"
      ],
      "metadata": {
        "colab": {
          "base_uri": "https://localhost:8080/"
        },
        "id": "hR_tsbNFGYHo",
        "outputId": "eddca6e9-11ec-4835-b58c-98eef73c09f4"
      },
      "execution_count": null,
      "outputs": [
        {
          "output_type": "execute_result",
          "data": {
            "text/plain": [
              "(500, 13)"
            ]
          },
          "metadata": {},
          "execution_count": 5
        }
      ]
    },
    {
      "cell_type": "code",
      "source": [
        "# Information About the column\n",
        "# Very important before working on dataset\n",
        "df.info()"
      ],
      "metadata": {
        "colab": {
          "base_uri": "https://localhost:8080/"
        },
        "id": "QeYHi0Y7G4zV",
        "outputId": "1d2dbc91-c0e7-477d-ee6a-c7dd047bc387"
      },
      "execution_count": null,
      "outputs": [
        {
          "output_type": "stream",
          "name": "stdout",
          "text": [
            "<class 'pandas.core.frame.DataFrame'>\n",
            "RangeIndex: 500 entries, 0 to 499\n",
            "Data columns (total 13 columns):\n",
            " #   Column      Non-Null Count  Dtype  \n",
            "---  ------      --------------  -----  \n",
            " 0   Rank        500 non-null    int64  \n",
            " 1   Title       500 non-null    object \n",
            " 2   Employees   500 non-null    int64  \n",
            " 3   Sector      500 non-null    object \n",
            " 4   Industry    500 non-null    object \n",
            " 5   Hqcity      500 non-null    object \n",
            " 6   Ceo         500 non-null    object \n",
            " 7   Ceo-title   500 non-null    object \n",
            " 8   Revenues    500 non-null    int64  \n",
            " 9   Revchange   500 non-null    float64\n",
            " 10  Profits     500 non-null    float64\n",
            " 11  Prftchange  500 non-null    object \n",
            " 12  Assets      500 non-null    int64  \n",
            "dtypes: float64(2), int64(4), object(7)\n",
            "memory usage: 50.9+ KB\n"
          ]
        }
      ]
    },
    {
      "cell_type": "markdown",
      "source": [
        "# *** **CREATING a SUB DATASET**"
      ],
      "metadata": {
        "id": "vBWLLC4OI4a9"
      }
    },
    {
      "cell_type": "code",
      "source": [
        "sub_df=df[['Rank','Title','Employees','Sector','Revenues','Profits']]\n",
        "sub_df.head()\n",
        "sub_df.head(10)"
      ],
      "metadata": {
        "colab": {
          "base_uri": "https://localhost:8080/",
          "height": 363
        },
        "id": "AY9_a_sxI3ti",
        "outputId": "5f16d1d1-23ca-4a70-a218-4286bbf15db7"
      },
      "execution_count": null,
      "outputs": [
        {
          "output_type": "execute_result",
          "data": {
            "text/plain": [
              "   Rank               Title  Employees                  Sector  Revenues  \\\n",
              "0     1             Walmart    2300000               Retailing    485873   \n",
              "1     2  Berkshire Hathaway     367700              Financials    223604   \n",
              "2     3               Apple     116000              Technology    215639   \n",
              "3     4         Exxon Mobil      72700                  Energy    205004   \n",
              "4     5            McKesson      68000             Wholesalers    192487   \n",
              "5     6  UnitedHealth Group     230000             Health Care    184840   \n",
              "6     7          CVS Health     204000             Health Care    177526   \n",
              "7     8      General Motors     225000  Motor Vehicles & Parts    166380   \n",
              "8     9                AT&T     268540      Telecommunications    163786   \n",
              "9    10          Ford Motor     201000  Motor Vehicles & Parts    151800   \n",
              "\n",
              "   Profits  \n",
              "0  13643.0  \n",
              "1  24074.0  \n",
              "2  45687.0  \n",
              "3   7840.0  \n",
              "4   2258.0  \n",
              "5   7017.0  \n",
              "6   5317.0  \n",
              "7   9427.0  \n",
              "8  12976.0  \n",
              "9   4596.0  "
            ],
            "text/html": [
              "\n",
              "  <div id=\"df-08e5cd44-3894-48c3-9870-992d5c5c3d7c\" class=\"colab-df-container\">\n",
              "    <div>\n",
              "<style scoped>\n",
              "    .dataframe tbody tr th:only-of-type {\n",
              "        vertical-align: middle;\n",
              "    }\n",
              "\n",
              "    .dataframe tbody tr th {\n",
              "        vertical-align: top;\n",
              "    }\n",
              "\n",
              "    .dataframe thead th {\n",
              "        text-align: right;\n",
              "    }\n",
              "</style>\n",
              "<table border=\"1\" class=\"dataframe\">\n",
              "  <thead>\n",
              "    <tr style=\"text-align: right;\">\n",
              "      <th></th>\n",
              "      <th>Rank</th>\n",
              "      <th>Title</th>\n",
              "      <th>Employees</th>\n",
              "      <th>Sector</th>\n",
              "      <th>Revenues</th>\n",
              "      <th>Profits</th>\n",
              "    </tr>\n",
              "  </thead>\n",
              "  <tbody>\n",
              "    <tr>\n",
              "      <th>0</th>\n",
              "      <td>1</td>\n",
              "      <td>Walmart</td>\n",
              "      <td>2300000</td>\n",
              "      <td>Retailing</td>\n",
              "      <td>485873</td>\n",
              "      <td>13643.0</td>\n",
              "    </tr>\n",
              "    <tr>\n",
              "      <th>1</th>\n",
              "      <td>2</td>\n",
              "      <td>Berkshire Hathaway</td>\n",
              "      <td>367700</td>\n",
              "      <td>Financials</td>\n",
              "      <td>223604</td>\n",
              "      <td>24074.0</td>\n",
              "    </tr>\n",
              "    <tr>\n",
              "      <th>2</th>\n",
              "      <td>3</td>\n",
              "      <td>Apple</td>\n",
              "      <td>116000</td>\n",
              "      <td>Technology</td>\n",
              "      <td>215639</td>\n",
              "      <td>45687.0</td>\n",
              "    </tr>\n",
              "    <tr>\n",
              "      <th>3</th>\n",
              "      <td>4</td>\n",
              "      <td>Exxon Mobil</td>\n",
              "      <td>72700</td>\n",
              "      <td>Energy</td>\n",
              "      <td>205004</td>\n",
              "      <td>7840.0</td>\n",
              "    </tr>\n",
              "    <tr>\n",
              "      <th>4</th>\n",
              "      <td>5</td>\n",
              "      <td>McKesson</td>\n",
              "      <td>68000</td>\n",
              "      <td>Wholesalers</td>\n",
              "      <td>192487</td>\n",
              "      <td>2258.0</td>\n",
              "    </tr>\n",
              "    <tr>\n",
              "      <th>5</th>\n",
              "      <td>6</td>\n",
              "      <td>UnitedHealth Group</td>\n",
              "      <td>230000</td>\n",
              "      <td>Health Care</td>\n",
              "      <td>184840</td>\n",
              "      <td>7017.0</td>\n",
              "    </tr>\n",
              "    <tr>\n",
              "      <th>6</th>\n",
              "      <td>7</td>\n",
              "      <td>CVS Health</td>\n",
              "      <td>204000</td>\n",
              "      <td>Health Care</td>\n",
              "      <td>177526</td>\n",
              "      <td>5317.0</td>\n",
              "    </tr>\n",
              "    <tr>\n",
              "      <th>7</th>\n",
              "      <td>8</td>\n",
              "      <td>General Motors</td>\n",
              "      <td>225000</td>\n",
              "      <td>Motor Vehicles &amp; Parts</td>\n",
              "      <td>166380</td>\n",
              "      <td>9427.0</td>\n",
              "    </tr>\n",
              "    <tr>\n",
              "      <th>8</th>\n",
              "      <td>9</td>\n",
              "      <td>AT&amp;T</td>\n",
              "      <td>268540</td>\n",
              "      <td>Telecommunications</td>\n",
              "      <td>163786</td>\n",
              "      <td>12976.0</td>\n",
              "    </tr>\n",
              "    <tr>\n",
              "      <th>9</th>\n",
              "      <td>10</td>\n",
              "      <td>Ford Motor</td>\n",
              "      <td>201000</td>\n",
              "      <td>Motor Vehicles &amp; Parts</td>\n",
              "      <td>151800</td>\n",
              "      <td>4596.0</td>\n",
              "    </tr>\n",
              "  </tbody>\n",
              "</table>\n",
              "</div>\n",
              "    <div class=\"colab-df-buttons\">\n",
              "\n",
              "  <div class=\"colab-df-container\">\n",
              "    <button class=\"colab-df-convert\" onclick=\"convertToInteractive('df-08e5cd44-3894-48c3-9870-992d5c5c3d7c')\"\n",
              "            title=\"Convert this dataframe to an interactive table.\"\n",
              "            style=\"display:none;\">\n",
              "\n",
              "  <svg xmlns=\"http://www.w3.org/2000/svg\" height=\"24px\" viewBox=\"0 -960 960 960\">\n",
              "    <path d=\"M120-120v-720h720v720H120Zm60-500h600v-160H180v160Zm220 220h160v-160H400v160Zm0 220h160v-160H400v160ZM180-400h160v-160H180v160Zm440 0h160v-160H620v160ZM180-180h160v-160H180v160Zm440 0h160v-160H620v160Z\"/>\n",
              "  </svg>\n",
              "    </button>\n",
              "\n",
              "  <style>\n",
              "    .colab-df-container {\n",
              "      display:flex;\n",
              "      gap: 12px;\n",
              "    }\n",
              "\n",
              "    .colab-df-convert {\n",
              "      background-color: #E8F0FE;\n",
              "      border: none;\n",
              "      border-radius: 50%;\n",
              "      cursor: pointer;\n",
              "      display: none;\n",
              "      fill: #1967D2;\n",
              "      height: 32px;\n",
              "      padding: 0 0 0 0;\n",
              "      width: 32px;\n",
              "    }\n",
              "\n",
              "    .colab-df-convert:hover {\n",
              "      background-color: #E2EBFA;\n",
              "      box-shadow: 0px 1px 2px rgba(60, 64, 67, 0.3), 0px 1px 3px 1px rgba(60, 64, 67, 0.15);\n",
              "      fill: #174EA6;\n",
              "    }\n",
              "\n",
              "    .colab-df-buttons div {\n",
              "      margin-bottom: 4px;\n",
              "    }\n",
              "\n",
              "    [theme=dark] .colab-df-convert {\n",
              "      background-color: #3B4455;\n",
              "      fill: #D2E3FC;\n",
              "    }\n",
              "\n",
              "    [theme=dark] .colab-df-convert:hover {\n",
              "      background-color: #434B5C;\n",
              "      box-shadow: 0px 1px 3px 1px rgba(0, 0, 0, 0.15);\n",
              "      filter: drop-shadow(0px 1px 2px rgba(0, 0, 0, 0.3));\n",
              "      fill: #FFFFFF;\n",
              "    }\n",
              "  </style>\n",
              "\n",
              "    <script>\n",
              "      const buttonEl =\n",
              "        document.querySelector('#df-08e5cd44-3894-48c3-9870-992d5c5c3d7c button.colab-df-convert');\n",
              "      buttonEl.style.display =\n",
              "        google.colab.kernel.accessAllowed ? 'block' : 'none';\n",
              "\n",
              "      async function convertToInteractive(key) {\n",
              "        const element = document.querySelector('#df-08e5cd44-3894-48c3-9870-992d5c5c3d7c');\n",
              "        const dataTable =\n",
              "          await google.colab.kernel.invokeFunction('convertToInteractive',\n",
              "                                                    [key], {});\n",
              "        if (!dataTable) return;\n",
              "\n",
              "        const docLinkHtml = 'Like what you see? Visit the ' +\n",
              "          '<a target=\"_blank\" href=https://colab.research.google.com/notebooks/data_table.ipynb>data table notebook</a>'\n",
              "          + ' to learn more about interactive tables.';\n",
              "        element.innerHTML = '';\n",
              "        dataTable['output_type'] = 'display_data';\n",
              "        await google.colab.output.renderOutput(dataTable, element);\n",
              "        const docLink = document.createElement('div');\n",
              "        docLink.innerHTML = docLinkHtml;\n",
              "        element.appendChild(docLink);\n",
              "      }\n",
              "    </script>\n",
              "  </div>\n",
              "\n",
              "\n",
              "<div id=\"df-5bb4eb87-8697-453d-87a8-b34bf8e729bd\">\n",
              "  <button class=\"colab-df-quickchart\" onclick=\"quickchart('df-5bb4eb87-8697-453d-87a8-b34bf8e729bd')\"\n",
              "            title=\"Suggest charts\"\n",
              "            style=\"display:none;\">\n",
              "\n",
              "<svg xmlns=\"http://www.w3.org/2000/svg\" height=\"24px\"viewBox=\"0 0 24 24\"\n",
              "     width=\"24px\">\n",
              "    <g>\n",
              "        <path d=\"M19 3H5c-1.1 0-2 .9-2 2v14c0 1.1.9 2 2 2h14c1.1 0 2-.9 2-2V5c0-1.1-.9-2-2-2zM9 17H7v-7h2v7zm4 0h-2V7h2v10zm4 0h-2v-4h2v4z\"/>\n",
              "    </g>\n",
              "</svg>\n",
              "  </button>\n",
              "\n",
              "<style>\n",
              "  .colab-df-quickchart {\n",
              "      --bg-color: #E8F0FE;\n",
              "      --fill-color: #1967D2;\n",
              "      --hover-bg-color: #E2EBFA;\n",
              "      --hover-fill-color: #174EA6;\n",
              "      --disabled-fill-color: #AAA;\n",
              "      --disabled-bg-color: #DDD;\n",
              "  }\n",
              "\n",
              "  [theme=dark] .colab-df-quickchart {\n",
              "      --bg-color: #3B4455;\n",
              "      --fill-color: #D2E3FC;\n",
              "      --hover-bg-color: #434B5C;\n",
              "      --hover-fill-color: #FFFFFF;\n",
              "      --disabled-bg-color: #3B4455;\n",
              "      --disabled-fill-color: #666;\n",
              "  }\n",
              "\n",
              "  .colab-df-quickchart {\n",
              "    background-color: var(--bg-color);\n",
              "    border: none;\n",
              "    border-radius: 50%;\n",
              "    cursor: pointer;\n",
              "    display: none;\n",
              "    fill: var(--fill-color);\n",
              "    height: 32px;\n",
              "    padding: 0;\n",
              "    width: 32px;\n",
              "  }\n",
              "\n",
              "  .colab-df-quickchart:hover {\n",
              "    background-color: var(--hover-bg-color);\n",
              "    box-shadow: 0 1px 2px rgba(60, 64, 67, 0.3), 0 1px 3px 1px rgba(60, 64, 67, 0.15);\n",
              "    fill: var(--button-hover-fill-color);\n",
              "  }\n",
              "\n",
              "  .colab-df-quickchart-complete:disabled,\n",
              "  .colab-df-quickchart-complete:disabled:hover {\n",
              "    background-color: var(--disabled-bg-color);\n",
              "    fill: var(--disabled-fill-color);\n",
              "    box-shadow: none;\n",
              "  }\n",
              "\n",
              "  .colab-df-spinner {\n",
              "    border: 2px solid var(--fill-color);\n",
              "    border-color: transparent;\n",
              "    border-bottom-color: var(--fill-color);\n",
              "    animation:\n",
              "      spin 1s steps(1) infinite;\n",
              "  }\n",
              "\n",
              "  @keyframes spin {\n",
              "    0% {\n",
              "      border-color: transparent;\n",
              "      border-bottom-color: var(--fill-color);\n",
              "      border-left-color: var(--fill-color);\n",
              "    }\n",
              "    20% {\n",
              "      border-color: transparent;\n",
              "      border-left-color: var(--fill-color);\n",
              "      border-top-color: var(--fill-color);\n",
              "    }\n",
              "    30% {\n",
              "      border-color: transparent;\n",
              "      border-left-color: var(--fill-color);\n",
              "      border-top-color: var(--fill-color);\n",
              "      border-right-color: var(--fill-color);\n",
              "    }\n",
              "    40% {\n",
              "      border-color: transparent;\n",
              "      border-right-color: var(--fill-color);\n",
              "      border-top-color: var(--fill-color);\n",
              "    }\n",
              "    60% {\n",
              "      border-color: transparent;\n",
              "      border-right-color: var(--fill-color);\n",
              "    }\n",
              "    80% {\n",
              "      border-color: transparent;\n",
              "      border-right-color: var(--fill-color);\n",
              "      border-bottom-color: var(--fill-color);\n",
              "    }\n",
              "    90% {\n",
              "      border-color: transparent;\n",
              "      border-bottom-color: var(--fill-color);\n",
              "    }\n",
              "  }\n",
              "</style>\n",
              "\n",
              "  <script>\n",
              "    async function quickchart(key) {\n",
              "      const quickchartButtonEl =\n",
              "        document.querySelector('#' + key + ' button');\n",
              "      quickchartButtonEl.disabled = true;  // To prevent multiple clicks.\n",
              "      quickchartButtonEl.classList.add('colab-df-spinner');\n",
              "      try {\n",
              "        const charts = await google.colab.kernel.invokeFunction(\n",
              "            'suggestCharts', [key], {});\n",
              "      } catch (error) {\n",
              "        console.error('Error during call to suggestCharts:', error);\n",
              "      }\n",
              "      quickchartButtonEl.classList.remove('colab-df-spinner');\n",
              "      quickchartButtonEl.classList.add('colab-df-quickchart-complete');\n",
              "    }\n",
              "    (() => {\n",
              "      let quickchartButtonEl =\n",
              "        document.querySelector('#df-5bb4eb87-8697-453d-87a8-b34bf8e729bd button');\n",
              "      quickchartButtonEl.style.display =\n",
              "        google.colab.kernel.accessAllowed ? 'block' : 'none';\n",
              "    })();\n",
              "  </script>\n",
              "</div>\n",
              "\n",
              "    </div>\n",
              "  </div>\n"
            ],
            "application/vnd.google.colaboratory.intrinsic+json": {
              "type": "dataframe",
              "variable_name": "sub_df",
              "summary": "{\n  \"name\": \"sub_df\",\n  \"rows\": 500,\n  \"fields\": [\n    {\n      \"column\": \"Rank\",\n      \"properties\": {\n        \"dtype\": \"number\",\n        \"std\": 144,\n        \"min\": 1,\n        \"max\": 500,\n        \"num_unique_values\": 497,\n        \"samples\": [\n          487,\n          74,\n          232\n        ],\n        \"semantic_type\": \"\",\n        \"description\": \"\"\n      }\n    },\n    {\n      \"column\": \"Title\",\n      \"properties\": {\n        \"dtype\": \"string\",\n        \"num_unique_values\": 500,\n        \"samples\": [\n          \"CenterPoint Energy\",\n          \"Caterpillar\",\n          \"National Oilwell Varco\"\n        ],\n        \"semantic_type\": \"\",\n        \"description\": \"\"\n      }\n    },\n    {\n      \"column\": \"Employees\",\n      \"properties\": {\n        \"dtype\": \"number\",\n        \"std\": 123452,\n        \"min\": 83,\n        \"max\": 2300000,\n        \"num_unique_values\": 399,\n        \"samples\": [\n          72878,\n          8500,\n          14800\n        ],\n        \"semantic_type\": \"\",\n        \"description\": \"\"\n      }\n    },\n    {\n      \"column\": \"Sector\",\n      \"properties\": {\n        \"dtype\": \"category\",\n        \"num_unique_values\": 21,\n        \"samples\": [\n          \"Retailing\",\n          \"Hotels, Restaurants & Leisure\",\n          \"Chemicals\"\n        ],\n        \"semantic_type\": \"\",\n        \"description\": \"\"\n      }\n    },\n    {\n      \"column\": \"Revenues\",\n      \"properties\": {\n        \"dtype\": \"number\",\n        \"std\": 38337,\n        \"min\": 5145,\n        \"max\": 485873,\n        \"num_unique_values\": 495,\n        \"samples\": [\n          5595,\n          38537,\n          8831\n        ],\n        \"semantic_type\": \"\",\n        \"description\": \"\"\n      }\n    },\n    {\n      \"column\": \"Profits\",\n      \"properties\": {\n        \"dtype\": \"number\",\n        \"std\": 3937.558720894575,\n        \"min\": -6177.0,\n        \"max\": 45687.0,\n        \"num_unique_values\": 494,\n        \"samples\": [\n          455.7,\n          -67.0,\n          352.0\n        ],\n        \"semantic_type\": \"\",\n        \"description\": \"\"\n      }\n    }\n  ]\n}"
            }
          },
          "metadata": {},
          "execution_count": 7
        }
      ]
    },
    {
      "cell_type": "code",
      "source": [
        "sub_df.describe()"
      ],
      "metadata": {
        "colab": {
          "base_uri": "https://localhost:8080/",
          "height": 300
        },
        "id": "2FpEFbwUHWQ8",
        "outputId": "54973397-e6e7-44ed-86e0-0399597b11f0"
      },
      "execution_count": null,
      "outputs": [
        {
          "output_type": "execute_result",
          "data": {
            "text/plain": [
              "             Rank     Employees       Revenues       Profits\n",
              "count  500.000000  5.000000e+02     500.000000    500.000000\n",
              "mean   250.492000  5.635013e+04   24111.748000   1779.479800\n",
              "std    144.477366  1.234520e+05   38337.353337   3937.558721\n",
              "min      1.000000  8.300000e+01    5145.000000  -6177.000000\n",
              "25%    125.750000  1.190000e+04    7245.000000    235.725000\n",
              "50%    250.500000  2.500000e+04   11384.000000    683.600000\n",
              "75%    375.250000  5.682525e+04   22605.250000   1770.775000\n",
              "max    500.000000  2.300000e+06  485873.000000  45687.000000"
            ],
            "text/html": [
              "\n",
              "  <div id=\"df-6263df9e-8d3c-4598-986e-a8f05be84424\" class=\"colab-df-container\">\n",
              "    <div>\n",
              "<style scoped>\n",
              "    .dataframe tbody tr th:only-of-type {\n",
              "        vertical-align: middle;\n",
              "    }\n",
              "\n",
              "    .dataframe tbody tr th {\n",
              "        vertical-align: top;\n",
              "    }\n",
              "\n",
              "    .dataframe thead th {\n",
              "        text-align: right;\n",
              "    }\n",
              "</style>\n",
              "<table border=\"1\" class=\"dataframe\">\n",
              "  <thead>\n",
              "    <tr style=\"text-align: right;\">\n",
              "      <th></th>\n",
              "      <th>Rank</th>\n",
              "      <th>Employees</th>\n",
              "      <th>Revenues</th>\n",
              "      <th>Profits</th>\n",
              "    </tr>\n",
              "  </thead>\n",
              "  <tbody>\n",
              "    <tr>\n",
              "      <th>count</th>\n",
              "      <td>500.000000</td>\n",
              "      <td>5.000000e+02</td>\n",
              "      <td>500.000000</td>\n",
              "      <td>500.000000</td>\n",
              "    </tr>\n",
              "    <tr>\n",
              "      <th>mean</th>\n",
              "      <td>250.492000</td>\n",
              "      <td>5.635013e+04</td>\n",
              "      <td>24111.748000</td>\n",
              "      <td>1779.479800</td>\n",
              "    </tr>\n",
              "    <tr>\n",
              "      <th>std</th>\n",
              "      <td>144.477366</td>\n",
              "      <td>1.234520e+05</td>\n",
              "      <td>38337.353337</td>\n",
              "      <td>3937.558721</td>\n",
              "    </tr>\n",
              "    <tr>\n",
              "      <th>min</th>\n",
              "      <td>1.000000</td>\n",
              "      <td>8.300000e+01</td>\n",
              "      <td>5145.000000</td>\n",
              "      <td>-6177.000000</td>\n",
              "    </tr>\n",
              "    <tr>\n",
              "      <th>25%</th>\n",
              "      <td>125.750000</td>\n",
              "      <td>1.190000e+04</td>\n",
              "      <td>7245.000000</td>\n",
              "      <td>235.725000</td>\n",
              "    </tr>\n",
              "    <tr>\n",
              "      <th>50%</th>\n",
              "      <td>250.500000</td>\n",
              "      <td>2.500000e+04</td>\n",
              "      <td>11384.000000</td>\n",
              "      <td>683.600000</td>\n",
              "    </tr>\n",
              "    <tr>\n",
              "      <th>75%</th>\n",
              "      <td>375.250000</td>\n",
              "      <td>5.682525e+04</td>\n",
              "      <td>22605.250000</td>\n",
              "      <td>1770.775000</td>\n",
              "    </tr>\n",
              "    <tr>\n",
              "      <th>max</th>\n",
              "      <td>500.000000</td>\n",
              "      <td>2.300000e+06</td>\n",
              "      <td>485873.000000</td>\n",
              "      <td>45687.000000</td>\n",
              "    </tr>\n",
              "  </tbody>\n",
              "</table>\n",
              "</div>\n",
              "    <div class=\"colab-df-buttons\">\n",
              "\n",
              "  <div class=\"colab-df-container\">\n",
              "    <button class=\"colab-df-convert\" onclick=\"convertToInteractive('df-6263df9e-8d3c-4598-986e-a8f05be84424')\"\n",
              "            title=\"Convert this dataframe to an interactive table.\"\n",
              "            style=\"display:none;\">\n",
              "\n",
              "  <svg xmlns=\"http://www.w3.org/2000/svg\" height=\"24px\" viewBox=\"0 -960 960 960\">\n",
              "    <path d=\"M120-120v-720h720v720H120Zm60-500h600v-160H180v160Zm220 220h160v-160H400v160Zm0 220h160v-160H400v160ZM180-400h160v-160H180v160Zm440 0h160v-160H620v160ZM180-180h160v-160H180v160Zm440 0h160v-160H620v160Z\"/>\n",
              "  </svg>\n",
              "    </button>\n",
              "\n",
              "  <style>\n",
              "    .colab-df-container {\n",
              "      display:flex;\n",
              "      gap: 12px;\n",
              "    }\n",
              "\n",
              "    .colab-df-convert {\n",
              "      background-color: #E8F0FE;\n",
              "      border: none;\n",
              "      border-radius: 50%;\n",
              "      cursor: pointer;\n",
              "      display: none;\n",
              "      fill: #1967D2;\n",
              "      height: 32px;\n",
              "      padding: 0 0 0 0;\n",
              "      width: 32px;\n",
              "    }\n",
              "\n",
              "    .colab-df-convert:hover {\n",
              "      background-color: #E2EBFA;\n",
              "      box-shadow: 0px 1px 2px rgba(60, 64, 67, 0.3), 0px 1px 3px 1px rgba(60, 64, 67, 0.15);\n",
              "      fill: #174EA6;\n",
              "    }\n",
              "\n",
              "    .colab-df-buttons div {\n",
              "      margin-bottom: 4px;\n",
              "    }\n",
              "\n",
              "    [theme=dark] .colab-df-convert {\n",
              "      background-color: #3B4455;\n",
              "      fill: #D2E3FC;\n",
              "    }\n",
              "\n",
              "    [theme=dark] .colab-df-convert:hover {\n",
              "      background-color: #434B5C;\n",
              "      box-shadow: 0px 1px 3px 1px rgba(0, 0, 0, 0.15);\n",
              "      filter: drop-shadow(0px 1px 2px rgba(0, 0, 0, 0.3));\n",
              "      fill: #FFFFFF;\n",
              "    }\n",
              "  </style>\n",
              "\n",
              "    <script>\n",
              "      const buttonEl =\n",
              "        document.querySelector('#df-6263df9e-8d3c-4598-986e-a8f05be84424 button.colab-df-convert');\n",
              "      buttonEl.style.display =\n",
              "        google.colab.kernel.accessAllowed ? 'block' : 'none';\n",
              "\n",
              "      async function convertToInteractive(key) {\n",
              "        const element = document.querySelector('#df-6263df9e-8d3c-4598-986e-a8f05be84424');\n",
              "        const dataTable =\n",
              "          await google.colab.kernel.invokeFunction('convertToInteractive',\n",
              "                                                    [key], {});\n",
              "        if (!dataTable) return;\n",
              "\n",
              "        const docLinkHtml = 'Like what you see? Visit the ' +\n",
              "          '<a target=\"_blank\" href=https://colab.research.google.com/notebooks/data_table.ipynb>data table notebook</a>'\n",
              "          + ' to learn more about interactive tables.';\n",
              "        element.innerHTML = '';\n",
              "        dataTable['output_type'] = 'display_data';\n",
              "        await google.colab.output.renderOutput(dataTable, element);\n",
              "        const docLink = document.createElement('div');\n",
              "        docLink.innerHTML = docLinkHtml;\n",
              "        element.appendChild(docLink);\n",
              "      }\n",
              "    </script>\n",
              "  </div>\n",
              "\n",
              "\n",
              "<div id=\"df-38647c9e-f779-40d6-8168-60a0486c3ebf\">\n",
              "  <button class=\"colab-df-quickchart\" onclick=\"quickchart('df-38647c9e-f779-40d6-8168-60a0486c3ebf')\"\n",
              "            title=\"Suggest charts\"\n",
              "            style=\"display:none;\">\n",
              "\n",
              "<svg xmlns=\"http://www.w3.org/2000/svg\" height=\"24px\"viewBox=\"0 0 24 24\"\n",
              "     width=\"24px\">\n",
              "    <g>\n",
              "        <path d=\"M19 3H5c-1.1 0-2 .9-2 2v14c0 1.1.9 2 2 2h14c1.1 0 2-.9 2-2V5c0-1.1-.9-2-2-2zM9 17H7v-7h2v7zm4 0h-2V7h2v10zm4 0h-2v-4h2v4z\"/>\n",
              "    </g>\n",
              "</svg>\n",
              "  </button>\n",
              "\n",
              "<style>\n",
              "  .colab-df-quickchart {\n",
              "      --bg-color: #E8F0FE;\n",
              "      --fill-color: #1967D2;\n",
              "      --hover-bg-color: #E2EBFA;\n",
              "      --hover-fill-color: #174EA6;\n",
              "      --disabled-fill-color: #AAA;\n",
              "      --disabled-bg-color: #DDD;\n",
              "  }\n",
              "\n",
              "  [theme=dark] .colab-df-quickchart {\n",
              "      --bg-color: #3B4455;\n",
              "      --fill-color: #D2E3FC;\n",
              "      --hover-bg-color: #434B5C;\n",
              "      --hover-fill-color: #FFFFFF;\n",
              "      --disabled-bg-color: #3B4455;\n",
              "      --disabled-fill-color: #666;\n",
              "  }\n",
              "\n",
              "  .colab-df-quickchart {\n",
              "    background-color: var(--bg-color);\n",
              "    border: none;\n",
              "    border-radius: 50%;\n",
              "    cursor: pointer;\n",
              "    display: none;\n",
              "    fill: var(--fill-color);\n",
              "    height: 32px;\n",
              "    padding: 0;\n",
              "    width: 32px;\n",
              "  }\n",
              "\n",
              "  .colab-df-quickchart:hover {\n",
              "    background-color: var(--hover-bg-color);\n",
              "    box-shadow: 0 1px 2px rgba(60, 64, 67, 0.3), 0 1px 3px 1px rgba(60, 64, 67, 0.15);\n",
              "    fill: var(--button-hover-fill-color);\n",
              "  }\n",
              "\n",
              "  .colab-df-quickchart-complete:disabled,\n",
              "  .colab-df-quickchart-complete:disabled:hover {\n",
              "    background-color: var(--disabled-bg-color);\n",
              "    fill: var(--disabled-fill-color);\n",
              "    box-shadow: none;\n",
              "  }\n",
              "\n",
              "  .colab-df-spinner {\n",
              "    border: 2px solid var(--fill-color);\n",
              "    border-color: transparent;\n",
              "    border-bottom-color: var(--fill-color);\n",
              "    animation:\n",
              "      spin 1s steps(1) infinite;\n",
              "  }\n",
              "\n",
              "  @keyframes spin {\n",
              "    0% {\n",
              "      border-color: transparent;\n",
              "      border-bottom-color: var(--fill-color);\n",
              "      border-left-color: var(--fill-color);\n",
              "    }\n",
              "    20% {\n",
              "      border-color: transparent;\n",
              "      border-left-color: var(--fill-color);\n",
              "      border-top-color: var(--fill-color);\n",
              "    }\n",
              "    30% {\n",
              "      border-color: transparent;\n",
              "      border-left-color: var(--fill-color);\n",
              "      border-top-color: var(--fill-color);\n",
              "      border-right-color: var(--fill-color);\n",
              "    }\n",
              "    40% {\n",
              "      border-color: transparent;\n",
              "      border-right-color: var(--fill-color);\n",
              "      border-top-color: var(--fill-color);\n",
              "    }\n",
              "    60% {\n",
              "      border-color: transparent;\n",
              "      border-right-color: var(--fill-color);\n",
              "    }\n",
              "    80% {\n",
              "      border-color: transparent;\n",
              "      border-right-color: var(--fill-color);\n",
              "      border-bottom-color: var(--fill-color);\n",
              "    }\n",
              "    90% {\n",
              "      border-color: transparent;\n",
              "      border-bottom-color: var(--fill-color);\n",
              "    }\n",
              "  }\n",
              "</style>\n",
              "\n",
              "  <script>\n",
              "    async function quickchart(key) {\n",
              "      const quickchartButtonEl =\n",
              "        document.querySelector('#' + key + ' button');\n",
              "      quickchartButtonEl.disabled = true;  // To prevent multiple clicks.\n",
              "      quickchartButtonEl.classList.add('colab-df-spinner');\n",
              "      try {\n",
              "        const charts = await google.colab.kernel.invokeFunction(\n",
              "            'suggestCharts', [key], {});\n",
              "      } catch (error) {\n",
              "        console.error('Error during call to suggestCharts:', error);\n",
              "      }\n",
              "      quickchartButtonEl.classList.remove('colab-df-spinner');\n",
              "      quickchartButtonEl.classList.add('colab-df-quickchart-complete');\n",
              "    }\n",
              "    (() => {\n",
              "      let quickchartButtonEl =\n",
              "        document.querySelector('#df-38647c9e-f779-40d6-8168-60a0486c3ebf button');\n",
              "      quickchartButtonEl.style.display =\n",
              "        google.colab.kernel.accessAllowed ? 'block' : 'none';\n",
              "    })();\n",
              "  </script>\n",
              "</div>\n",
              "\n",
              "    </div>\n",
              "  </div>\n"
            ],
            "application/vnd.google.colaboratory.intrinsic+json": {
              "type": "dataframe",
              "summary": "{\n  \"name\": \"sub_df\",\n  \"rows\": 8,\n  \"fields\": [\n    {\n      \"column\": \"Rank\",\n      \"properties\": {\n        \"dtype\": \"number\",\n        \"std\": 179.89828139933815,\n        \"min\": 1.0,\n        \"max\": 500.0,\n        \"num_unique_values\": 7,\n        \"samples\": [\n          500.0,\n          250.492,\n          250.5\n        ],\n        \"semantic_type\": \"\",\n        \"description\": \"\"\n      }\n    },\n    {\n      \"column\": \"Employees\",\n      \"properties\": {\n        \"dtype\": \"number\",\n        \"std\": 800371.000312269,\n        \"min\": 83.0,\n        \"max\": 2300000.0,\n        \"num_unique_values\": 8,\n        \"samples\": [\n          56350.132,\n          25000.0,\n          500.0\n        ],\n        \"semantic_type\": \"\",\n        \"description\": \"\"\n      }\n    },\n    {\n      \"column\": \"Revenues\",\n      \"properties\": {\n        \"dtype\": \"number\",\n        \"std\": 166716.36475331552,\n        \"min\": 500.0,\n        \"max\": 485873.0,\n        \"num_unique_values\": 8,\n        \"samples\": [\n          24111.748,\n          11384.0,\n          500.0\n        ],\n        \"semantic_type\": \"\",\n        \"description\": \"\"\n      }\n    },\n    {\n      \"column\": \"Profits\",\n      \"properties\": {\n        \"dtype\": \"number\",\n        \"std\": 16278.861497381085,\n        \"min\": -6177.0,\n        \"max\": 45687.0,\n        \"num_unique_values\": 8,\n        \"samples\": [\n          1779.4797999999998,\n          683.6,\n          500.0\n        ],\n        \"semantic_type\": \"\",\n        \"description\": \"\"\n      }\n    }\n  ]\n}"
            }
          },
          "metadata": {},
          "execution_count": 8
        }
      ]
    },
    {
      "cell_type": "code",
      "source": [
        "mean_rev=sub_df['Revenues'].mean()\n",
        "print(mean_rev)"
      ],
      "metadata": {
        "colab": {
          "base_uri": "https://localhost:8080/"
        },
        "id": "ZXf6rqWyK2NF",
        "outputId": "d159dbb1-48d7-4724-8956-bfc78fe68028"
      },
      "execution_count": null,
      "outputs": [
        {
          "output_type": "stream",
          "name": "stdout",
          "text": [
            "24111.748\n"
          ]
        }
      ]
    },
    {
      "cell_type": "code",
      "source": [
        "median_rev=sub_df['Revenues'].median()\n",
        "print(median_rev)"
      ],
      "metadata": {
        "colab": {
          "base_uri": "https://localhost:8080/"
        },
        "id": "s-yt2_hcIwVc",
        "outputId": "3f92f3b1-070d-4a28-922e-3dba4c36e98f"
      },
      "execution_count": null,
      "outputs": [
        {
          "output_type": "stream",
          "name": "stdout",
          "text": [
            "11384.0\n"
          ]
        }
      ]
    },
    {
      "cell_type": "code",
      "source": [
        "mode_rev=sub_df['Revenues'].mode()\n",
        "print(mode_rev)"
      ],
      "metadata": {
        "colab": {
          "base_uri": "https://localhost:8080/"
        },
        "id": "DK5N1mdjIAYG",
        "outputId": "44a49f0c-e7b7-4935-abf9-73d78a11ce77"
      },
      "execution_count": null,
      "outputs": [
        {
          "output_type": "stream",
          "name": "stdout",
          "text": [
            "0    9061\n",
            "Name: Revenues, dtype: int64\n"
          ]
        }
      ]
    },
    {
      "cell_type": "code",
      "source": [
        "s1=sub_df['Revenues'].min()\n",
        "print(s1)"
      ],
      "metadata": {
        "colab": {
          "base_uri": "https://localhost:8080/"
        },
        "id": "h0RlMjnyH_AR",
        "outputId": "222118b4-11bf-445a-99f7-83c215bccddf"
      },
      "execution_count": null,
      "outputs": [
        {
          "output_type": "stream",
          "name": "stdout",
          "text": [
            "5145\n"
          ]
        }
      ]
    },
    {
      "cell_type": "code",
      "source": [
        "s2=sub_df['Revenues'].max()\n",
        "print(s2)"
      ],
      "metadata": {
        "colab": {
          "base_uri": "https://localhost:8080/"
        },
        "id": "lOzAtDNLMgNr",
        "outputId": "3197343d-3dc6-4cfa-a0bb-9182c9d1b135"
      },
      "execution_count": null,
      "outputs": [
        {
          "output_type": "stream",
          "name": "stdout",
          "text": [
            "485873\n"
          ]
        }
      ]
    },
    {
      "cell_type": "code",
      "source": [
        "Range= s2-s1\n",
        "print(Range)"
      ],
      "metadata": {
        "colab": {
          "base_uri": "https://localhost:8080/"
        },
        "id": "we-KMCIgMloP",
        "outputId": "d22dd452-e6db-4301-c734-83e821bc3961"
      },
      "execution_count": null,
      "outputs": [
        {
          "output_type": "stream",
          "name": "stdout",
          "text": [
            "480728\n"
          ]
        }
      ]
    },
    {
      "cell_type": "code",
      "source": [
        "Range2=sub_df['Revenues'].max()-sub_df['Revenues'].min()\n",
        "Range2"
      ],
      "metadata": {
        "colab": {
          "base_uri": "https://localhost:8080/"
        },
        "id": "zGGDZ9EfM0Gs",
        "outputId": "da7a14bc-263c-4d9a-f439-838c88d12632"
      },
      "execution_count": null,
      "outputs": [
        {
          "output_type": "execute_result",
          "data": {
            "text/plain": [
              "480728"
            ]
          },
          "metadata": {},
          "execution_count": 15
        }
      ]
    },
    {
      "cell_type": "code",
      "source": [
        "sd= sub_df['Revenues'].std()\n",
        "sd"
      ],
      "metadata": {
        "id": "jnqNULkmNSsh",
        "colab": {
          "base_uri": "https://localhost:8080/"
        },
        "outputId": "6b9bf85e-3d29-43c0-d019-6cf16fb980c7"
      },
      "execution_count": null,
      "outputs": [
        {
          "output_type": "execute_result",
          "data": {
            "text/plain": [
              "38337.35333653324"
            ]
          },
          "metadata": {},
          "execution_count": 16
        }
      ]
    },
    {
      "cell_type": "code",
      "source": [
        "var=sub_df['Revenues'].var()\n",
        "var"
      ],
      "metadata": {
        "colab": {
          "base_uri": "https://localhost:8080/"
        },
        "id": "VU8tJbF87mAL",
        "outputId": "f7571c31-cfcc-41c6-b2f8-5ea4325c29cf"
      },
      "execution_count": null,
      "outputs": [
        {
          "output_type": "execute_result",
          "data": {
            "text/plain": [
              "1469752660.8501961"
            ]
          },
          "metadata": {},
          "execution_count": 17
        }
      ]
    },
    {
      "cell_type": "markdown",
      "source": [
        "## **IQR**"
      ],
      "metadata": {
        "id": "ZMUqoSO176mN"
      }
    },
    {
      "cell_type": "code",
      "source": [
        "#Quantile\n",
        "# P75=Q3 and P25= Q1"
      ],
      "metadata": {
        "id": "IIg6qYwt725A"
      },
      "execution_count": null,
      "outputs": []
    },
    {
      "cell_type": "code",
      "source": [
        "q3=sub_df['Revenues'].quantile(0.75)\n",
        "q3"
      ],
      "metadata": {
        "colab": {
          "base_uri": "https://localhost:8080/"
        },
        "id": "qAEG8J-o73a7",
        "outputId": "121d4d72-d1f4-4ada-aa4e-4b5a219d5329"
      },
      "execution_count": null,
      "outputs": [
        {
          "output_type": "execute_result",
          "data": {
            "text/plain": [
              "22605.25"
            ]
          },
          "metadata": {},
          "execution_count": 19
        }
      ]
    },
    {
      "cell_type": "code",
      "source": [
        "q1=sub_df['Revenues'].quantile(0.25)\n",
        "q1"
      ],
      "metadata": {
        "colab": {
          "base_uri": "https://localhost:8080/"
        },
        "id": "QoSnJq_f8x0x",
        "outputId": "0a78145f-2492-4018-c978-b6b85eed37cf"
      },
      "execution_count": null,
      "outputs": [
        {
          "output_type": "execute_result",
          "data": {
            "text/plain": [
              "7245.0"
            ]
          },
          "metadata": {},
          "execution_count": 20
        }
      ]
    },
    {
      "cell_type": "code",
      "source": [
        "IQR= q3-q1\n",
        "IQR"
      ],
      "metadata": {
        "colab": {
          "base_uri": "https://localhost:8080/"
        },
        "id": "CUa1LjRW8yVf",
        "outputId": "7bfb5d53-9a27-4282-9281-6c14b443dc36"
      },
      "execution_count": null,
      "outputs": [
        {
          "output_type": "execute_result",
          "data": {
            "text/plain": [
              "15360.25"
            ]
          },
          "metadata": {},
          "execution_count": 21
        }
      ]
    },
    {
      "cell_type": "code",
      "source": [
        "# IQR= q3 - q1\n",
        "IQR= sub_df['Revenues'].quantile(0.75)-sub_df['Revenues'].quantile(0.25)\n",
        "IQR"
      ],
      "metadata": {
        "colab": {
          "base_uri": "https://localhost:8080/"
        },
        "id": "9yYm-uh28ysi",
        "outputId": "bbc9fc3e-9153-4295-ccaa-3188bd2e01dd"
      },
      "execution_count": null,
      "outputs": [
        {
          "output_type": "execute_result",
          "data": {
            "text/plain": [
              "15360.25"
            ]
          },
          "metadata": {},
          "execution_count": 22
        }
      ]
    },
    {
      "cell_type": "code",
      "source": [
        "skew=sub_df[\"Revenues\"].skew()\n",
        "skew"
      ],
      "metadata": {
        "colab": {
          "base_uri": "https://localhost:8080/"
        },
        "id": "x55_O7D99pef",
        "outputId": "1b564b55-755f-4524-da86-3728d931acad"
      },
      "execution_count": null,
      "outputs": [
        {
          "output_type": "execute_result",
          "data": {
            "text/plain": [
              "5.480066970305041"
            ]
          },
          "metadata": {},
          "execution_count": 23
        }
      ]
    },
    {
      "cell_type": "code",
      "source": [
        "import seaborn as sns\n",
        "skew=sub_df[\"Revenues\"].skew()\n",
        "skew\n"
      ],
      "metadata": {
        "colab": {
          "base_uri": "https://localhost:8080/"
        },
        "id": "YSjVV2hq9t9P",
        "outputId": "cded8cbc-371d-49f7-cab3-960806de9235"
      },
      "execution_count": null,
      "outputs": [
        {
          "output_type": "execute_result",
          "data": {
            "text/plain": [
              "5.480066970305041"
            ]
          },
          "metadata": {},
          "execution_count": 24
        }
      ]
    },
    {
      "cell_type": "markdown",
      "source": [
        "Calculate CV for the revenues column\n",
        "# cv=(sd/mean)*100\n"
      ],
      "metadata": {
        "id": "2wBCYwrs-79D"
      }
    },
    {
      "cell_type": "code",
      "source": [
        "CV= sub_df['Revenues'].std()/sub_df['Revenues'].mean()*100\n",
        "CV"
      ],
      "metadata": {
        "colab": {
          "base_uri": "https://localhost:8080/"
        },
        "id": "urjslFEZ9uV1",
        "outputId": "f5f7eaea-e01f-4197-8646-6d6bf451bfd2"
      },
      "execution_count": null,
      "outputs": [
        {
          "output_type": "execute_result",
          "data": {
            "text/plain": [
              "158.99864803055027"
            ]
          },
          "metadata": {},
          "execution_count": 25
        }
      ]
    },
    {
      "cell_type": "markdown",
      "source": [
        "Which amoungst the revenues or profits display more stability\n",
        "\n",
        "Ans- Revenue column has more stability"
      ],
      "metadata": {
        "id": "PHfMLZSK_43q"
      }
    },
    {
      "cell_type": "code",
      "source": [
        "CV2= sub_df['Profits'].std()/sub_df['Profits'].mean()*100\n",
        "CV2"
      ],
      "metadata": {
        "colab": {
          "base_uri": "https://localhost:8080/"
        },
        "id": "b8oYhBdH_4W4",
        "outputId": "8384dce7-a174-4e60-fbc2-75dfaab90b50"
      },
      "execution_count": null,
      "outputs": [
        {
          "output_type": "execute_result",
          "data": {
            "text/plain": [
              "221.2758313353473"
            ]
          },
          "metadata": {},
          "execution_count": 26
        }
      ]
    },
    {
      "cell_type": "code",
      "source": [
        "print(\"CV of revenues Column is,\",CV,'%')"
      ],
      "metadata": {
        "colab": {
          "base_uri": "https://localhost:8080/"
        },
        "id": "f7kqnrfXA07k",
        "outputId": "1888877e-61fa-4847-c1f1-27cdacf4b947"
      },
      "execution_count": null,
      "outputs": [
        {
          "output_type": "stream",
          "name": "stdout",
          "text": [
            "CV of revenues Column is, 158.99864803055027 %\n"
          ]
        }
      ]
    },
    {
      "cell_type": "code",
      "source": [
        "print(\"CV of profits Column is,\",CV2,'%')"
      ],
      "metadata": {
        "colab": {
          "base_uri": "https://localhost:8080/"
        },
        "id": "v9SPTRdlBIo0",
        "outputId": "f4028ca4-6ecf-409a-d2a3-18847f48a40b"
      },
      "execution_count": null,
      "outputs": [
        {
          "output_type": "stream",
          "name": "stdout",
          "text": [
            "CV of profits Column is, 221.2758313353473 %\n"
          ]
        }
      ]
    },
    {
      "cell_type": "code",
      "source": [
        "sub_df.sample(frac=0.01)"
      ],
      "metadata": {
        "colab": {
          "base_uri": "https://localhost:8080/",
          "height": 206
        },
        "id": "AuB5L7HkBNsL",
        "outputId": "3daa5ac5-5fa4-4cd5-f673-3c85c7414b98"
      },
      "execution_count": null,
      "outputs": [
        {
          "output_type": "execute_result",
          "data": {
            "text/plain": [
              "     Rank                                   Title  Employees  \\\n",
              "300   301  Fidelity National Information Services      55000   \n",
              "312   313                 Frontier Communications      28332   \n",
              "411   412                Discovery Communications       7000   \n",
              "113   114                        Northrop Grumman      67000   \n",
              "125   126                                   Aflac      10212   \n",
              "\n",
              "                  Sector  Revenues  Profits  \n",
              "300    Business Services      9241    568.0  \n",
              "312   Telecommunications      8896   -373.0  \n",
              "411                Media      6497   1194.0  \n",
              "113  Aerospace & Defense     24508   2200.0  \n",
              "125           Financials     22559   2659.0  "
            ],
            "text/html": [
              "\n",
              "  <div id=\"df-ea267944-e54d-4b63-8a62-d4ff22b66945\" class=\"colab-df-container\">\n",
              "    <div>\n",
              "<style scoped>\n",
              "    .dataframe tbody tr th:only-of-type {\n",
              "        vertical-align: middle;\n",
              "    }\n",
              "\n",
              "    .dataframe tbody tr th {\n",
              "        vertical-align: top;\n",
              "    }\n",
              "\n",
              "    .dataframe thead th {\n",
              "        text-align: right;\n",
              "    }\n",
              "</style>\n",
              "<table border=\"1\" class=\"dataframe\">\n",
              "  <thead>\n",
              "    <tr style=\"text-align: right;\">\n",
              "      <th></th>\n",
              "      <th>Rank</th>\n",
              "      <th>Title</th>\n",
              "      <th>Employees</th>\n",
              "      <th>Sector</th>\n",
              "      <th>Revenues</th>\n",
              "      <th>Profits</th>\n",
              "    </tr>\n",
              "  </thead>\n",
              "  <tbody>\n",
              "    <tr>\n",
              "      <th>300</th>\n",
              "      <td>301</td>\n",
              "      <td>Fidelity National Information Services</td>\n",
              "      <td>55000</td>\n",
              "      <td>Business Services</td>\n",
              "      <td>9241</td>\n",
              "      <td>568.0</td>\n",
              "    </tr>\n",
              "    <tr>\n",
              "      <th>312</th>\n",
              "      <td>313</td>\n",
              "      <td>Frontier Communications</td>\n",
              "      <td>28332</td>\n",
              "      <td>Telecommunications</td>\n",
              "      <td>8896</td>\n",
              "      <td>-373.0</td>\n",
              "    </tr>\n",
              "    <tr>\n",
              "      <th>411</th>\n",
              "      <td>412</td>\n",
              "      <td>Discovery Communications</td>\n",
              "      <td>7000</td>\n",
              "      <td>Media</td>\n",
              "      <td>6497</td>\n",
              "      <td>1194.0</td>\n",
              "    </tr>\n",
              "    <tr>\n",
              "      <th>113</th>\n",
              "      <td>114</td>\n",
              "      <td>Northrop Grumman</td>\n",
              "      <td>67000</td>\n",
              "      <td>Aerospace &amp; Defense</td>\n",
              "      <td>24508</td>\n",
              "      <td>2200.0</td>\n",
              "    </tr>\n",
              "    <tr>\n",
              "      <th>125</th>\n",
              "      <td>126</td>\n",
              "      <td>Aflac</td>\n",
              "      <td>10212</td>\n",
              "      <td>Financials</td>\n",
              "      <td>22559</td>\n",
              "      <td>2659.0</td>\n",
              "    </tr>\n",
              "  </tbody>\n",
              "</table>\n",
              "</div>\n",
              "    <div class=\"colab-df-buttons\">\n",
              "\n",
              "  <div class=\"colab-df-container\">\n",
              "    <button class=\"colab-df-convert\" onclick=\"convertToInteractive('df-ea267944-e54d-4b63-8a62-d4ff22b66945')\"\n",
              "            title=\"Convert this dataframe to an interactive table.\"\n",
              "            style=\"display:none;\">\n",
              "\n",
              "  <svg xmlns=\"http://www.w3.org/2000/svg\" height=\"24px\" viewBox=\"0 -960 960 960\">\n",
              "    <path d=\"M120-120v-720h720v720H120Zm60-500h600v-160H180v160Zm220 220h160v-160H400v160Zm0 220h160v-160H400v160ZM180-400h160v-160H180v160Zm440 0h160v-160H620v160ZM180-180h160v-160H180v160Zm440 0h160v-160H620v160Z\"/>\n",
              "  </svg>\n",
              "    </button>\n",
              "\n",
              "  <style>\n",
              "    .colab-df-container {\n",
              "      display:flex;\n",
              "      gap: 12px;\n",
              "    }\n",
              "\n",
              "    .colab-df-convert {\n",
              "      background-color: #E8F0FE;\n",
              "      border: none;\n",
              "      border-radius: 50%;\n",
              "      cursor: pointer;\n",
              "      display: none;\n",
              "      fill: #1967D2;\n",
              "      height: 32px;\n",
              "      padding: 0 0 0 0;\n",
              "      width: 32px;\n",
              "    }\n",
              "\n",
              "    .colab-df-convert:hover {\n",
              "      background-color: #E2EBFA;\n",
              "      box-shadow: 0px 1px 2px rgba(60, 64, 67, 0.3), 0px 1px 3px 1px rgba(60, 64, 67, 0.15);\n",
              "      fill: #174EA6;\n",
              "    }\n",
              "\n",
              "    .colab-df-buttons div {\n",
              "      margin-bottom: 4px;\n",
              "    }\n",
              "\n",
              "    [theme=dark] .colab-df-convert {\n",
              "      background-color: #3B4455;\n",
              "      fill: #D2E3FC;\n",
              "    }\n",
              "\n",
              "    [theme=dark] .colab-df-convert:hover {\n",
              "      background-color: #434B5C;\n",
              "      box-shadow: 0px 1px 3px 1px rgba(0, 0, 0, 0.15);\n",
              "      filter: drop-shadow(0px 1px 2px rgba(0, 0, 0, 0.3));\n",
              "      fill: #FFFFFF;\n",
              "    }\n",
              "  </style>\n",
              "\n",
              "    <script>\n",
              "      const buttonEl =\n",
              "        document.querySelector('#df-ea267944-e54d-4b63-8a62-d4ff22b66945 button.colab-df-convert');\n",
              "      buttonEl.style.display =\n",
              "        google.colab.kernel.accessAllowed ? 'block' : 'none';\n",
              "\n",
              "      async function convertToInteractive(key) {\n",
              "        const element = document.querySelector('#df-ea267944-e54d-4b63-8a62-d4ff22b66945');\n",
              "        const dataTable =\n",
              "          await google.colab.kernel.invokeFunction('convertToInteractive',\n",
              "                                                    [key], {});\n",
              "        if (!dataTable) return;\n",
              "\n",
              "        const docLinkHtml = 'Like what you see? Visit the ' +\n",
              "          '<a target=\"_blank\" href=https://colab.research.google.com/notebooks/data_table.ipynb>data table notebook</a>'\n",
              "          + ' to learn more about interactive tables.';\n",
              "        element.innerHTML = '';\n",
              "        dataTable['output_type'] = 'display_data';\n",
              "        await google.colab.output.renderOutput(dataTable, element);\n",
              "        const docLink = document.createElement('div');\n",
              "        docLink.innerHTML = docLinkHtml;\n",
              "        element.appendChild(docLink);\n",
              "      }\n",
              "    </script>\n",
              "  </div>\n",
              "\n",
              "\n",
              "<div id=\"df-f50ac567-307a-4ec8-aee9-2f8d843499f3\">\n",
              "  <button class=\"colab-df-quickchart\" onclick=\"quickchart('df-f50ac567-307a-4ec8-aee9-2f8d843499f3')\"\n",
              "            title=\"Suggest charts\"\n",
              "            style=\"display:none;\">\n",
              "\n",
              "<svg xmlns=\"http://www.w3.org/2000/svg\" height=\"24px\"viewBox=\"0 0 24 24\"\n",
              "     width=\"24px\">\n",
              "    <g>\n",
              "        <path d=\"M19 3H5c-1.1 0-2 .9-2 2v14c0 1.1.9 2 2 2h14c1.1 0 2-.9 2-2V5c0-1.1-.9-2-2-2zM9 17H7v-7h2v7zm4 0h-2V7h2v10zm4 0h-2v-4h2v4z\"/>\n",
              "    </g>\n",
              "</svg>\n",
              "  </button>\n",
              "\n",
              "<style>\n",
              "  .colab-df-quickchart {\n",
              "      --bg-color: #E8F0FE;\n",
              "      --fill-color: #1967D2;\n",
              "      --hover-bg-color: #E2EBFA;\n",
              "      --hover-fill-color: #174EA6;\n",
              "      --disabled-fill-color: #AAA;\n",
              "      --disabled-bg-color: #DDD;\n",
              "  }\n",
              "\n",
              "  [theme=dark] .colab-df-quickchart {\n",
              "      --bg-color: #3B4455;\n",
              "      --fill-color: #D2E3FC;\n",
              "      --hover-bg-color: #434B5C;\n",
              "      --hover-fill-color: #FFFFFF;\n",
              "      --disabled-bg-color: #3B4455;\n",
              "      --disabled-fill-color: #666;\n",
              "  }\n",
              "\n",
              "  .colab-df-quickchart {\n",
              "    background-color: var(--bg-color);\n",
              "    border: none;\n",
              "    border-radius: 50%;\n",
              "    cursor: pointer;\n",
              "    display: none;\n",
              "    fill: var(--fill-color);\n",
              "    height: 32px;\n",
              "    padding: 0;\n",
              "    width: 32px;\n",
              "  }\n",
              "\n",
              "  .colab-df-quickchart:hover {\n",
              "    background-color: var(--hover-bg-color);\n",
              "    box-shadow: 0 1px 2px rgba(60, 64, 67, 0.3), 0 1px 3px 1px rgba(60, 64, 67, 0.15);\n",
              "    fill: var(--button-hover-fill-color);\n",
              "  }\n",
              "\n",
              "  .colab-df-quickchart-complete:disabled,\n",
              "  .colab-df-quickchart-complete:disabled:hover {\n",
              "    background-color: var(--disabled-bg-color);\n",
              "    fill: var(--disabled-fill-color);\n",
              "    box-shadow: none;\n",
              "  }\n",
              "\n",
              "  .colab-df-spinner {\n",
              "    border: 2px solid var(--fill-color);\n",
              "    border-color: transparent;\n",
              "    border-bottom-color: var(--fill-color);\n",
              "    animation:\n",
              "      spin 1s steps(1) infinite;\n",
              "  }\n",
              "\n",
              "  @keyframes spin {\n",
              "    0% {\n",
              "      border-color: transparent;\n",
              "      border-bottom-color: var(--fill-color);\n",
              "      border-left-color: var(--fill-color);\n",
              "    }\n",
              "    20% {\n",
              "      border-color: transparent;\n",
              "      border-left-color: var(--fill-color);\n",
              "      border-top-color: var(--fill-color);\n",
              "    }\n",
              "    30% {\n",
              "      border-color: transparent;\n",
              "      border-left-color: var(--fill-color);\n",
              "      border-top-color: var(--fill-color);\n",
              "      border-right-color: var(--fill-color);\n",
              "    }\n",
              "    40% {\n",
              "      border-color: transparent;\n",
              "      border-right-color: var(--fill-color);\n",
              "      border-top-color: var(--fill-color);\n",
              "    }\n",
              "    60% {\n",
              "      border-color: transparent;\n",
              "      border-right-color: var(--fill-color);\n",
              "    }\n",
              "    80% {\n",
              "      border-color: transparent;\n",
              "      border-right-color: var(--fill-color);\n",
              "      border-bottom-color: var(--fill-color);\n",
              "    }\n",
              "    90% {\n",
              "      border-color: transparent;\n",
              "      border-bottom-color: var(--fill-color);\n",
              "    }\n",
              "  }\n",
              "</style>\n",
              "\n",
              "  <script>\n",
              "    async function quickchart(key) {\n",
              "      const quickchartButtonEl =\n",
              "        document.querySelector('#' + key + ' button');\n",
              "      quickchartButtonEl.disabled = true;  // To prevent multiple clicks.\n",
              "      quickchartButtonEl.classList.add('colab-df-spinner');\n",
              "      try {\n",
              "        const charts = await google.colab.kernel.invokeFunction(\n",
              "            'suggestCharts', [key], {});\n",
              "      } catch (error) {\n",
              "        console.error('Error during call to suggestCharts:', error);\n",
              "      }\n",
              "      quickchartButtonEl.classList.remove('colab-df-spinner');\n",
              "      quickchartButtonEl.classList.add('colab-df-quickchart-complete');\n",
              "    }\n",
              "    (() => {\n",
              "      let quickchartButtonEl =\n",
              "        document.querySelector('#df-f50ac567-307a-4ec8-aee9-2f8d843499f3 button');\n",
              "      quickchartButtonEl.style.display =\n",
              "        google.colab.kernel.accessAllowed ? 'block' : 'none';\n",
              "    })();\n",
              "  </script>\n",
              "</div>\n",
              "\n",
              "    </div>\n",
              "  </div>\n"
            ],
            "application/vnd.google.colaboratory.intrinsic+json": {
              "type": "dataframe",
              "summary": "{\n  \"name\": \"sub_df\",\n  \"rows\": 5,\n  \"fields\": [\n    {\n      \"column\": \"Rank\",\n      \"properties\": {\n        \"dtype\": \"number\",\n        \"std\": 129,\n        \"min\": 114,\n        \"max\": 412,\n        \"num_unique_values\": 5,\n        \"samples\": [\n          313,\n          126,\n          412\n        ],\n        \"semantic_type\": \"\",\n        \"description\": \"\"\n      }\n    },\n    {\n      \"column\": \"Title\",\n      \"properties\": {\n        \"dtype\": \"string\",\n        \"num_unique_values\": 5,\n        \"samples\": [\n          \"Frontier Communications\",\n          \"Aflac\",\n          \"Discovery Communications\"\n        ],\n        \"semantic_type\": \"\",\n        \"description\": \"\"\n      }\n    },\n    {\n      \"column\": \"Employees\",\n      \"properties\": {\n        \"dtype\": \"number\",\n        \"std\": 26719,\n        \"min\": 7000,\n        \"max\": 67000,\n        \"num_unique_values\": 5,\n        \"samples\": [\n          28332,\n          10212,\n          7000\n        ],\n        \"semantic_type\": \"\",\n        \"description\": \"\"\n      }\n    },\n    {\n      \"column\": \"Sector\",\n      \"properties\": {\n        \"dtype\": \"string\",\n        \"num_unique_values\": 5,\n        \"samples\": [\n          \"Telecommunications\",\n          \"Financials\",\n          \"Media\"\n        ],\n        \"semantic_type\": \"\",\n        \"description\": \"\"\n      }\n    },\n    {\n      \"column\": \"Revenues\",\n      \"properties\": {\n        \"dtype\": \"number\",\n        \"std\": 8486,\n        \"min\": 6497,\n        \"max\": 24508,\n        \"num_unique_values\": 5,\n        \"samples\": [\n          8896,\n          22559,\n          6497\n        ],\n        \"semantic_type\": \"\",\n        \"description\": \"\"\n      }\n    },\n    {\n      \"column\": \"Profits\",\n      \"properties\": {\n        \"dtype\": \"number\",\n        \"std\": 1223.741108241445,\n        \"min\": -373.0,\n        \"max\": 2659.0,\n        \"num_unique_values\": 5,\n        \"samples\": [\n          -373.0,\n          2659.0,\n          1194.0\n        ],\n        \"semantic_type\": \"\",\n        \"description\": \"\"\n      }\n    }\n  ]\n}"
            }
          },
          "metadata": {},
          "execution_count": 29
        }
      ]
    },
    {
      "cell_type": "code",
      "source": [
        "df_sample= sub_df.sample(frac=0.70)\n",
        "#df_sample.head()\n",
        "mean2=df_sample['Revenues'].mean()\n",
        "print(mean2)"
      ],
      "metadata": {
        "colab": {
          "base_uri": "https://localhost:8080/"
        },
        "id": "Kl51hOLgCrZG",
        "outputId": "3ff770be-7249-46ce-cf8a-7f5361ca86e3"
      },
      "execution_count": null,
      "outputs": [
        {
          "output_type": "stream",
          "name": "stdout",
          "text": [
            "24223.37714285714\n"
          ]
        }
      ]
    },
    {
      "cell_type": "code",
      "source": [
        "df_sample= sub_df.sample(frac=0.70, random_state=0)\n",
        "#df_sample.head()\n",
        "mean2=df_sample['Revenues'].mean()\n",
        "print(mean2)"
      ],
      "metadata": {
        "colab": {
          "base_uri": "https://localhost:8080/"
        },
        "id": "xAe3CjlaEbSP",
        "outputId": "48daaf36-ff52-4dff-869c-e6846f8db741"
      },
      "execution_count": null,
      "outputs": [
        {
          "output_type": "stream",
          "name": "stdout",
          "text": [
            "24044.977142857144\n"
          ]
        }
      ]
    },
    {
      "cell_type": "code",
      "source": [
        "df_sample= sub_df.sample(frac=0.70, random_state=1)\n",
        "#df_sample.head()\n",
        "mean3=df_sample['Revenues'].mean()\n",
        "print(mean3)"
      ],
      "metadata": {
        "colab": {
          "base_uri": "https://localhost:8080/"
        },
        "id": "wEf82G4gFH6M",
        "outputId": "7b654fae-7d73-496d-dc83-01cbc3e0fb1d"
      },
      "execution_count": null,
      "outputs": [
        {
          "output_type": "stream",
          "name": "stdout",
          "text": [
            "23581.79142857143\n"
          ]
        }
      ]
    },
    {
      "cell_type": "code",
      "source": [
        "df_sample= sub_df.sample(frac=0.70, random_state=1)\n",
        "#df_sample.head()\n",
        "m=df_sample['Revenues'].mean()\n",
        "print(m)"
      ],
      "metadata": {
        "id": "llJwQQf0FPhU",
        "outputId": "093686cb-8a91-47ed-d4d2-83243e35e364",
        "colab": {
          "base_uri": "https://localhost:8080/"
        }
      },
      "execution_count": null,
      "outputs": [
        {
          "output_type": "stream",
          "name": "stdout",
          "text": [
            "23581.79142857143\n"
          ]
        }
      ]
    },
    {
      "cell_type": "code",
      "source": [
        "# select 70% random row from data set and consider this as a sample .Calculate mean of this sample with respect to profict column  repeat the process five times\n",
        "#compute the diff btw actual mean and each of the sample mean seprately . tablulate your observation"
      ],
      "metadata": {
        "id": "lKywgFtbrJcC"
      },
      "execution_count": null,
      "outputs": []
    },
    {
      "cell_type": "code",
      "source": [
        "df_sample1=sub_df.sample(frac=0.70,random_state=0)\n",
        "mean4=df_sample1['Profits'].mean()\n",
        "print(mean4)"
      ],
      "metadata": {
        "colab": {
          "base_uri": "https://localhost:8080/"
        },
        "id": "7vFtsS3lsBVH",
        "outputId": "350a4918-3f35-4872-ee31-71cc3fb91a48"
      },
      "execution_count": null,
      "outputs": [
        {
          "output_type": "stream",
          "name": "stdout",
          "text": [
            "1855.4874285714288\n"
          ]
        }
      ]
    },
    {
      "cell_type": "code",
      "source": [
        "df_sample2=sub_df.sample(frac=0.70,random_state=1)\n",
        "mean5=df_sample2['Profits'].mean()\n",
        "print(mean5)"
      ],
      "metadata": {
        "colab": {
          "base_uri": "https://localhost:8080/"
        },
        "id": "kZsfAAIFtgkK",
        "outputId": "be312639-0aac-49a9-d58d-0dfaa2a8a57c"
      },
      "execution_count": null,
      "outputs": [
        {
          "output_type": "stream",
          "name": "stdout",
          "text": [
            "1634.9054285714287\n"
          ]
        }
      ]
    },
    {
      "cell_type": "code",
      "source": [
        "df_sample3=sub_df.sample(frac=0.70,random_state=2)\n",
        "mean5=df_sample3['Profits'].mean()\n",
        "print(mean5)"
      ],
      "metadata": {
        "colab": {
          "base_uri": "https://localhost:8080/"
        },
        "id": "5QZ61jMmu3iR",
        "outputId": "cdd3ae7d-36e2-4007-ba78-86208a2a1397"
      },
      "execution_count": null,
      "outputs": [
        {
          "output_type": "stream",
          "name": "stdout",
          "text": [
            "1683.4168571428572\n"
          ]
        }
      ]
    },
    {
      "cell_type": "code",
      "source": [
        "df_sample4=sub_df.sample(frac=0.70,random_state=3)\n",
        "mean6=df_sample4['Profits'].mean()\n",
        "print(mean6)"
      ],
      "metadata": {
        "colab": {
          "base_uri": "https://localhost:8080/"
        },
        "id": "ToaModLIvlGe",
        "outputId": "cb240e39-a4b2-4167-c6d4-6c7726eeaa4f"
      },
      "execution_count": null,
      "outputs": [
        {
          "output_type": "stream",
          "name": "stdout",
          "text": [
            "1573.515142857143\n"
          ]
        }
      ]
    },
    {
      "cell_type": "code",
      "source": [
        "df_sample5=sub_df.sample(frac=0.70,random_state=4)\n",
        "mean7=df_sample5['Profits'].mean()\n",
        "print(mean7)"
      ],
      "metadata": {
        "colab": {
          "base_uri": "https://localhost:8080/"
        },
        "id": "t3-T2h_Yvum-",
        "outputId": "241391e1-4202-4eea-f551-33c674f54968"
      },
      "execution_count": null,
      "outputs": [
        {
          "output_type": "stream",
          "name": "stdout",
          "text": [
            "1876.998857142857\n"
          ]
        }
      ]
    },
    {
      "cell_type": "code",
      "source": [
        "mean_df=df_sample['Profits'].mean()\n",
        "mean_df"
      ],
      "metadata": {
        "colab": {
          "base_uri": "https://localhost:8080/"
        },
        "id": "RtbMfy5iv6DG",
        "outputId": "be115d8e-04bd-43f1-cbf1-0e0f43edea59"
      },
      "execution_count": null,
      "outputs": [
        {
          "output_type": "execute_result",
          "data": {
            "text/plain": [
              "1634.9054285714287"
            ]
          },
          "metadata": {},
          "execution_count": 40
        }
      ]
    },
    {
      "cell_type": "code",
      "source": [
        "# Computing the means\n"
      ],
      "metadata": {
        "id": "1jxUJ6DpxU58"
      },
      "execution_count": null,
      "outputs": []
    },
    {
      "cell_type": "code",
      "source": [
        "mean_dff1= mean_df-mean4\n",
        "print(mean_dff1)\n"
      ],
      "metadata": {
        "colab": {
          "base_uri": "https://localhost:8080/"
        },
        "id": "eDbIL1uoxeZr",
        "outputId": "263dd158-5e57-4ab7-f569-104d0d5d0d24"
      },
      "execution_count": null,
      "outputs": [
        {
          "output_type": "stream",
          "name": "stdout",
          "text": [
            "-220.5820000000001\n"
          ]
        }
      ]
    },
    {
      "cell_type": "code",
      "source": [
        "mean_diff2=mean_df-mean5\n",
        "print(mean_diff2)"
      ],
      "metadata": {
        "colab": {
          "base_uri": "https://localhost:8080/"
        },
        "id": "kArUaXM3x60E",
        "outputId": "9c314fb2-df0b-46a4-a676-1eaca437bbcd"
      },
      "execution_count": null,
      "outputs": [
        {
          "output_type": "stream",
          "name": "stdout",
          "text": [
            "-48.511428571428496\n"
          ]
        }
      ]
    },
    {
      "cell_type": "code",
      "source": [
        "mean_diff3=mean_df - mean6\n",
        "print(mean_diff3)"
      ],
      "metadata": {
        "colab": {
          "base_uri": "https://localhost:8080/"
        },
        "id": "dbRrSeJnx7aN",
        "outputId": "85c5bd01-1752-4309-bb9d-523fda603f25"
      },
      "execution_count": null,
      "outputs": [
        {
          "output_type": "stream",
          "name": "stdout",
          "text": [
            "61.39028571428571\n"
          ]
        }
      ]
    },
    {
      "cell_type": "code",
      "source": [
        "mean_diff4=mean_df - mean7\n",
        "print(mean_diff4)"
      ],
      "metadata": {
        "colab": {
          "base_uri": "https://localhost:8080/"
        },
        "id": "zpa950vgx8Ec",
        "outputId": "07d29b6d-1985-4cf4-be89-3eaa91c97924"
      },
      "execution_count": null,
      "outputs": [
        {
          "output_type": "stream",
          "name": "stdout",
          "text": [
            "-242.09342857142838\n"
          ]
        }
      ]
    },
    {
      "cell_type": "code",
      "source": [
        "q_3=sub_df['Revenues'].quantile(0.75)\n",
        "q_3"
      ],
      "metadata": {
        "colab": {
          "base_uri": "https://localhost:8080/"
        },
        "id": "a0HbBBGhFu5S",
        "outputId": "4f6800be-43a4-4a2d-f01e-53d29b204fcd"
      },
      "execution_count": null,
      "outputs": [
        {
          "output_type": "execute_result",
          "data": {
            "text/plain": [
              "22605.25"
            ]
          },
          "metadata": {},
          "execution_count": 49
        }
      ]
    },
    {
      "cell_type": "code",
      "source": [
        "q_1=sub_df['Revenues'].quantile(0.25)\n",
        "q_1"
      ],
      "metadata": {
        "colab": {
          "base_uri": "https://localhost:8080/"
        },
        "id": "sh8pBuLpFu2o",
        "outputId": "904bc086-989e-4c45-b889-626a214fbffe"
      },
      "execution_count": null,
      "outputs": [
        {
          "output_type": "execute_result",
          "data": {
            "text/plain": [
              "7245.0"
            ]
          },
          "metadata": {},
          "execution_count": 50
        }
      ]
    },
    {
      "cell_type": "code",
      "source": [
        "#IQR\n",
        "IQR_1=q_3 - q_1\n",
        "IQR_1"
      ],
      "metadata": {
        "colab": {
          "base_uri": "https://localhost:8080/"
        },
        "id": "lpZoEnuEFu0w",
        "outputId": "89041ced-b1bb-435e-d9d3-1ae872190b5a"
      },
      "execution_count": null,
      "outputs": [
        {
          "output_type": "execute_result",
          "data": {
            "text/plain": [
              "15360.25"
            ]
          },
          "metadata": {},
          "execution_count": 51
        }
      ]
    },
    {
      "cell_type": "code",
      "source": [
        "# Lower Limit\n",
        "Lower_limit=q_1 - 1.5*IQR_1\n",
        "Lower_limit"
      ],
      "metadata": {
        "colab": {
          "base_uri": "https://localhost:8080/"
        },
        "id": "5EkdTR9tFuzN",
        "outputId": "90d7aa14-35f2-4eca-8f70-e7e885d5308b"
      },
      "execution_count": null,
      "outputs": [
        {
          "output_type": "execute_result",
          "data": {
            "text/plain": [
              "-15795.375"
            ]
          },
          "metadata": {},
          "execution_count": 52
        }
      ]
    },
    {
      "cell_type": "code",
      "source": [
        "# Upper Limit\n",
        "Upper_limit=q_3 + 1.5*IQR_1\n",
        "Upper_limit"
      ],
      "metadata": {
        "colab": {
          "base_uri": "https://localhost:8080/"
        },
        "id": "kQXzea0PFuwn",
        "outputId": "e484dc21-2b2e-4965-ca4c-30ae95969a4c"
      },
      "execution_count": null,
      "outputs": [
        {
          "output_type": "execute_result",
          "data": {
            "text/plain": [
              "45645.625"
            ]
          },
          "metadata": {},
          "execution_count": 53
        }
      ]
    },
    {
      "cell_type": "code",
      "source": [
        " # Outliers (Rvenues)\n",
        " Outliers=sub_df[(sub_df[\"Revenues\"]<Lower_limit)|(sub_df[\"Revenues\"]> Upper_limit)]\n",
        " print(\"Outlier Rows:\")\n",
        " print(Outliers)"
      ],
      "metadata": {
        "colab": {
          "base_uri": "https://localhost:8080/"
        },
        "id": "wjpFYnxCFuua",
        "outputId": "31d4a5ee-d0c9-425e-ce18-f8c907326e83"
      },
      "execution_count": null,
      "outputs": [
        {
          "output_type": "stream",
          "name": "stdout",
          "text": [
            "Outlier Rows:\n",
            "    Rank                       Title  Employees          Sector  Revenues  \\\n",
            "0      1                     Walmart    2300000       Retailing    485873   \n",
            "1      2          Berkshire Hathaway     367700      Financials    223604   \n",
            "2      3                       Apple     116000      Technology    215639   \n",
            "3      4                 Exxon Mobil      72700          Energy    205004   \n",
            "4      5                    McKesson      68000     Wholesalers    192487   \n",
            "..   ...                         ...        ...             ...       ...   \n",
            "57    58                       FedEx     335767  Transportation     50365   \n",
            "58    59  Hewlett Packard Enterprise     195000      Technology     50123   \n",
            "59    60               Cisco Systems      73700      Technology     49247   \n",
            "60    61                          HP      49000      Technology     48238   \n",
            "61    62                Dow Chemical      56000       Chemicals     48158   \n",
            "\n",
            "    Profits  \n",
            "0   13643.0  \n",
            "1   24074.0  \n",
            "2   45687.0  \n",
            "3    7840.0  \n",
            "4    2258.0  \n",
            "..      ...  \n",
            "57   1820.0  \n",
            "58   3161.0  \n",
            "59  10739.0  \n",
            "60   2496.0  \n",
            "61   4318.0  \n",
            "\n",
            "[62 rows x 6 columns]\n"
          ]
        }
      ]
    },
    {
      "cell_type": "code",
      "source": [
        "q3=sub_df['Profits'].quantile(0.75)\n",
        "q3"
      ],
      "metadata": {
        "colab": {
          "base_uri": "https://localhost:8080/"
        },
        "id": "VxKC9MmyFusD",
        "outputId": "4ac20a13-f206-4bf5-bcbf-28179230bf26"
      },
      "execution_count": null,
      "outputs": [
        {
          "output_type": "execute_result",
          "data": {
            "text/plain": [
              "1770.775"
            ]
          },
          "metadata": {},
          "execution_count": 57
        }
      ]
    },
    {
      "cell_type": "code",
      "source": [
        "q1=sub_df['Profits'].quantile(0.25)\n",
        "q1"
      ],
      "metadata": {
        "colab": {
          "base_uri": "https://localhost:8080/"
        },
        "id": "yjpH6CVhFupa",
        "outputId": "2fd25cb0-d88e-473f-ff6f-db2bc44becfc"
      },
      "execution_count": null,
      "outputs": [
        {
          "output_type": "execute_result",
          "data": {
            "text/plain": [
              "235.725"
            ]
          },
          "metadata": {},
          "execution_count": 59
        }
      ]
    },
    {
      "cell_type": "code",
      "source": [
        "#Iqr\n",
        "Iqr=q3-q1\n",
        "Iqr"
      ],
      "metadata": {
        "colab": {
          "base_uri": "https://localhost:8080/"
        },
        "id": "SbrvSReBFunE",
        "outputId": "b02d3243-b8f2-4ccf-ec09-6a03cdfeba30"
      },
      "execution_count": null,
      "outputs": [
        {
          "output_type": "execute_result",
          "data": {
            "text/plain": [
              "1535.0500000000002"
            ]
          },
          "metadata": {},
          "execution_count": 60
        }
      ]
    },
    {
      "cell_type": "code",
      "source": [
        "#Lower Limit\n",
        "Lower=q1 - 1.5*Iqr\n",
        "Lower"
      ],
      "metadata": {
        "colab": {
          "base_uri": "https://localhost:8080/"
        },
        "id": "DQU5dTrVFukj",
        "outputId": "211c44e7-c6bc-4cef-cb2b-df7c6c3ef24b"
      },
      "execution_count": null,
      "outputs": [
        {
          "output_type": "execute_result",
          "data": {
            "text/plain": [
              "-2066.8500000000004"
            ]
          },
          "metadata": {},
          "execution_count": 61
        }
      ]
    },
    {
      "cell_type": "code",
      "source": [
        "# Upper Limit\n",
        "Upper=q3+ 1.5*Iqr\n",
        "Upper"
      ],
      "metadata": {
        "colab": {
          "base_uri": "https://localhost:8080/"
        },
        "id": "AXeG9b9oFuh_",
        "outputId": "deacd812-f410-4c9c-ab1a-6b4caf146ff2"
      },
      "execution_count": null,
      "outputs": [
        {
          "output_type": "execute_result",
          "data": {
            "text/plain": [
              "4073.3500000000004"
            ]
          },
          "metadata": {},
          "execution_count": 62
        }
      ]
    },
    {
      "cell_type": "code",
      "source": [
        " # Outliers(Profits)\n",
        " Outlier=sub_df[(sub_df[\"Profits\"]<Lower)|(sub_df[\"Profits\"]> Upper)]\n",
        " print(\"Outlier Rows:\")\n",
        " print(Outlier)"
      ],
      "metadata": {
        "colab": {
          "base_uri": "https://localhost:8080/"
        },
        "id": "0BKLU8GcFuff",
        "outputId": "f8302df2-1df9-4dd3-ab20-1abe57b56388"
      },
      "execution_count": null,
      "outputs": [
        {
          "output_type": "stream",
          "name": "stdout",
          "text": [
            "Outlier Rows:\n",
            "     Rank                   Title  Employees       Sector  Revenues  Profits\n",
            "0       1                 Walmart    2300000    Retailing    485873  13643.0\n",
            "1       2      Berkshire Hathaway     367700   Financials    223604  24074.0\n",
            "2       3                   Apple     116000   Technology    215639  45687.0\n",
            "3       4             Exxon Mobil      72700       Energy    205004   7840.0\n",
            "5       6      UnitedHealth Group     230000  Health Care    184840   7017.0\n",
            "..    ...                     ...        ...          ...       ...      ...\n",
            "284   285            Baker Hughes      33000       Energy      9841  -2738.0\n",
            "309   310                    eBay      12600   Technology      8979   7266.0\n",
            "342   343       Chesapeake Energy       3300       Energy      7872  -4401.0\n",
            "343   344      Anadarko Petroleum       4500       Energy      7869  -3071.0\n",
            "374   375  National Oilwell Varco      36384       Energy      7251  -2412.0\n",
            "\n",
            "[68 rows x 6 columns]\n"
          ]
        }
      ]
    },
    {
      "cell_type": "code",
      "source": [],
      "metadata": {
        "id": "JkqO-5B5FucW"
      },
      "execution_count": null,
      "outputs": []
    },
    {
      "cell_type": "code",
      "source": [],
      "metadata": {
        "id": "posTmcRVFuUy"
      },
      "execution_count": null,
      "outputs": []
    },
    {
      "cell_type": "code",
      "source": [],
      "metadata": {
        "id": "uXwMpeZoFuR7"
      },
      "execution_count": null,
      "outputs": []
    },
    {
      "cell_type": "code",
      "source": [],
      "metadata": {
        "id": "xCGvhzZbFuPQ"
      },
      "execution_count": null,
      "outputs": []
    },
    {
      "cell_type": "code",
      "source": [],
      "metadata": {
        "id": "T5TM2sMPFuM8"
      },
      "execution_count": null,
      "outputs": []
    },
    {
      "cell_type": "code",
      "source": [],
      "metadata": {
        "id": "pECXe34LFuKW"
      },
      "execution_count": null,
      "outputs": []
    },
    {
      "cell_type": "code",
      "source": [],
      "metadata": {
        "id": "5Cxk-WqqFuHw"
      },
      "execution_count": null,
      "outputs": []
    },
    {
      "cell_type": "code",
      "source": [],
      "metadata": {
        "id": "nPTbTMjrFuFL"
      },
      "execution_count": null,
      "outputs": []
    },
    {
      "cell_type": "code",
      "source": [],
      "metadata": {
        "id": "msQ61pSRFt28"
      },
      "execution_count": null,
      "outputs": []
    },
    {
      "cell_type": "code",
      "source": [],
      "metadata": {
        "id": "f1n5aqLdFtzb"
      },
      "execution_count": null,
      "outputs": []
    },
    {
      "cell_type": "code",
      "source": [],
      "metadata": {
        "id": "HRSHw4WHFtwz"
      },
      "execution_count": null,
      "outputs": []
    },
    {
      "cell_type": "code",
      "source": [],
      "metadata": {
        "id": "8D4IysZ9Ftry"
      },
      "execution_count": null,
      "outputs": []
    },
    {
      "cell_type": "code",
      "source": [],
      "metadata": {
        "id": "kMtkaAgdFto_"
      },
      "execution_count": null,
      "outputs": []
    },
    {
      "cell_type": "code",
      "source": [],
      "metadata": {
        "id": "Rmd8AbnTFtgc"
      },
      "execution_count": null,
      "outputs": []
    },
    {
      "cell_type": "code",
      "source": [],
      "metadata": {
        "id": "GIK4kXSgFtdB"
      },
      "execution_count": null,
      "outputs": []
    },
    {
      "cell_type": "code",
      "source": [],
      "metadata": {
        "id": "Q_eKkRLDFtaj"
      },
      "execution_count": null,
      "outputs": []
    },
    {
      "cell_type": "code",
      "source": [],
      "metadata": {
        "id": "PQQ2JsVEFtXg"
      },
      "execution_count": null,
      "outputs": []
    },
    {
      "cell_type": "code",
      "source": [],
      "metadata": {
        "id": "nYn1kBQSFtUC"
      },
      "execution_count": null,
      "outputs": []
    }
  ]
}